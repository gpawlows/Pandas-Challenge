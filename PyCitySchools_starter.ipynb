{
 "cells": [
  {
   "cell_type": "markdown",
   "metadata": {},
   "source": [
    "### Note\n",
    "* Instructions have been included for each segment. You do not have to follow them exactly, but they are included to help you think through the steps."
   ]
  },
  {
   "cell_type": "code",
   "execution_count": 22,
   "metadata": {},
   "outputs": [
    {
     "output_type": "execute_result",
     "data": {
      "text/plain": [
       "       Student ID       student_name gender grade            school_name  \\\n",
       "28275       28275       David Walker      M  12th  Rodriguez High School   \n",
       "4487         4487       David Watson      M   9th   Figueroa High School   \n",
       "4031         4031        David White      M  12th   Figueroa High School   \n",
       "21397       21397       David Wilson      M  11th     Bailey High School   \n",
       "10304       10304       David Wilson      M  10th  Hernandez High School   \n",
       "21790       21790          Dawn Hill      F  11th     Bailey High School   \n",
       "1547         1547      Dawn Martinez      F  11th      Huang High School   \n",
       "32445       32445    Deborah Johnson      F   9th    Johnson High School   \n",
       "32693       32693    Deborah Johnson      F   9th    Johnson High School   \n",
       "1872         1872       Dennis Brown      M  11th      Huang High School   \n",
       "22054       22054        Derek Allen      M  12th     Bailey High School   \n",
       "31719       31719      Donald Carter      M  10th    Johnson High School   \n",
       "22714       22714       Donna Holmes      F  11th     Bailey High School   \n",
       "18517       18517       Donna Turner      F  12th     Bailey High School   \n",
       "5076         5076    Douglas Jackson      M  11th   Figueroa High School   \n",
       "18876       18876  Douglas Rodriguez      M   9th     Bailey High School   \n",
       "34161       34161       Dustin Lewis      M  11th    Johnson High School   \n",
       "20113       20113      Dylan Johnson      M  10th     Bailey High School   \n",
       "29308       29308      Edward Taylor      M   9th  Rodriguez High School   \n",
       "20918       20918    Elizabeth Allen      F  12th     Bailey High School   \n",
       "21748       21748    Elizabeth Allen      F  10th     Bailey High School   \n",
       "11309       11309   Elizabeth Fisher      F  10th  Hernandez High School   \n",
       "33459       33459  Elizabeth Johnson      F   9th    Johnson High School   \n",
       "23933       23933  Elizabeth Johnson      F  10th       Pena High School   \n",
       "29070       29070  Elizabeth Nichols      F  11th  Rodriguez High School   \n",
       "\n",
       "       reading_score  math_score  School ID      type  size   budget  \\\n",
       "28275             95          75         11  District  3999  2547363   \n",
       "4487              99          83          1  District  2949  1884411   \n",
       "4031              72          72          1  District  2949  1884411   \n",
       "21397             89          93          7  District  4976  3124928   \n",
       "10304             64          75          3  District  4635  3022020   \n",
       "21790             91          94          7  District  4976  3124928   \n",
       "1547              67          66          0  District  2917  1910635   \n",
       "32445             86          81         12  District  4761  3094650   \n",
       "32693             79          85         12  District  4761  3094650   \n",
       "1872              92          76          0  District  2917  1910635   \n",
       "22054             89          71          7  District  4976  3124928   \n",
       "31719             87          94         12  District  4761  3094650   \n",
       "22714             90          61          7  District  4976  3124928   \n",
       "18517             79          78          7  District  4976  3124928   \n",
       "5076              94          86          1  District  2949  1884411   \n",
       "18876             80          90          7  District  4976  3124928   \n",
       "34161             74          63         12  District  4761  3094650   \n",
       "20113             92          98          7  District  4976  3124928   \n",
       "29308             85          93         11  District  3999  2547363   \n",
       "20918             81          88          7  District  4976  3124928   \n",
       "21748             78          84          7  District  4976  3124928   \n",
       "11309             68          95          3  District  4635  3022020   \n",
       "33459             74          83         12  District  4761  3094650   \n",
       "23933             75          76          9   Charter   962   585858   \n",
       "29070             92          92         11  District  3999  2547363   \n",
       "\n",
       "       name_school_duplicated  \n",
       "28275                    True  \n",
       "4487                     True  \n",
       "4031                     True  \n",
       "21397                    True  \n",
       "10304                    True  \n",
       "21790                    True  \n",
       "1547                     True  \n",
       "32445                    True  \n",
       "32693                    True  \n",
       "1872                     True  \n",
       "22054                    True  \n",
       "31719                    True  \n",
       "22714                    True  \n",
       "18517                    True  \n",
       "5076                     True  \n",
       "18876                    True  \n",
       "34161                    True  \n",
       "20113                    True  \n",
       "29308                    True  \n",
       "20918                    True  \n",
       "21748                    True  \n",
       "11309                    True  \n",
       "33459                    True  \n",
       "23933                    True  \n",
       "29070                    True  "
      ],
      "text/html": "<div>\n<style scoped>\n    .dataframe tbody tr th:only-of-type {\n        vertical-align: middle;\n    }\n\n    .dataframe tbody tr th {\n        vertical-align: top;\n    }\n\n    .dataframe thead th {\n        text-align: right;\n    }\n</style>\n<table border=\"1\" class=\"dataframe\">\n  <thead>\n    <tr style=\"text-align: right;\">\n      <th></th>\n      <th>Student ID</th>\n      <th>student_name</th>\n      <th>gender</th>\n      <th>grade</th>\n      <th>school_name</th>\n      <th>reading_score</th>\n      <th>math_score</th>\n      <th>School ID</th>\n      <th>type</th>\n      <th>size</th>\n      <th>budget</th>\n      <th>name_school_duplicated</th>\n    </tr>\n  </thead>\n  <tbody>\n    <tr>\n      <th>28275</th>\n      <td>28275</td>\n      <td>David Walker</td>\n      <td>M</td>\n      <td>12th</td>\n      <td>Rodriguez High School</td>\n      <td>95</td>\n      <td>75</td>\n      <td>11</td>\n      <td>District</td>\n      <td>3999</td>\n      <td>2547363</td>\n      <td>True</td>\n    </tr>\n    <tr>\n      <th>4487</th>\n      <td>4487</td>\n      <td>David Watson</td>\n      <td>M</td>\n      <td>9th</td>\n      <td>Figueroa High School</td>\n      <td>99</td>\n      <td>83</td>\n      <td>1</td>\n      <td>District</td>\n      <td>2949</td>\n      <td>1884411</td>\n      <td>True</td>\n    </tr>\n    <tr>\n      <th>4031</th>\n      <td>4031</td>\n      <td>David White</td>\n      <td>M</td>\n      <td>12th</td>\n      <td>Figueroa High School</td>\n      <td>72</td>\n      <td>72</td>\n      <td>1</td>\n      <td>District</td>\n      <td>2949</td>\n      <td>1884411</td>\n      <td>True</td>\n    </tr>\n    <tr>\n      <th>21397</th>\n      <td>21397</td>\n      <td>David Wilson</td>\n      <td>M</td>\n      <td>11th</td>\n      <td>Bailey High School</td>\n      <td>89</td>\n      <td>93</td>\n      <td>7</td>\n      <td>District</td>\n      <td>4976</td>\n      <td>3124928</td>\n      <td>True</td>\n    </tr>\n    <tr>\n      <th>10304</th>\n      <td>10304</td>\n      <td>David Wilson</td>\n      <td>M</td>\n      <td>10th</td>\n      <td>Hernandez High School</td>\n      <td>64</td>\n      <td>75</td>\n      <td>3</td>\n      <td>District</td>\n      <td>4635</td>\n      <td>3022020</td>\n      <td>True</td>\n    </tr>\n    <tr>\n      <th>21790</th>\n      <td>21790</td>\n      <td>Dawn Hill</td>\n      <td>F</td>\n      <td>11th</td>\n      <td>Bailey High School</td>\n      <td>91</td>\n      <td>94</td>\n      <td>7</td>\n      <td>District</td>\n      <td>4976</td>\n      <td>3124928</td>\n      <td>True</td>\n    </tr>\n    <tr>\n      <th>1547</th>\n      <td>1547</td>\n      <td>Dawn Martinez</td>\n      <td>F</td>\n      <td>11th</td>\n      <td>Huang High School</td>\n      <td>67</td>\n      <td>66</td>\n      <td>0</td>\n      <td>District</td>\n      <td>2917</td>\n      <td>1910635</td>\n      <td>True</td>\n    </tr>\n    <tr>\n      <th>32445</th>\n      <td>32445</td>\n      <td>Deborah Johnson</td>\n      <td>F</td>\n      <td>9th</td>\n      <td>Johnson High School</td>\n      <td>86</td>\n      <td>81</td>\n      <td>12</td>\n      <td>District</td>\n      <td>4761</td>\n      <td>3094650</td>\n      <td>True</td>\n    </tr>\n    <tr>\n      <th>32693</th>\n      <td>32693</td>\n      <td>Deborah Johnson</td>\n      <td>F</td>\n      <td>9th</td>\n      <td>Johnson High School</td>\n      <td>79</td>\n      <td>85</td>\n      <td>12</td>\n      <td>District</td>\n      <td>4761</td>\n      <td>3094650</td>\n      <td>True</td>\n    </tr>\n    <tr>\n      <th>1872</th>\n      <td>1872</td>\n      <td>Dennis Brown</td>\n      <td>M</td>\n      <td>11th</td>\n      <td>Huang High School</td>\n      <td>92</td>\n      <td>76</td>\n      <td>0</td>\n      <td>District</td>\n      <td>2917</td>\n      <td>1910635</td>\n      <td>True</td>\n    </tr>\n    <tr>\n      <th>22054</th>\n      <td>22054</td>\n      <td>Derek Allen</td>\n      <td>M</td>\n      <td>12th</td>\n      <td>Bailey High School</td>\n      <td>89</td>\n      <td>71</td>\n      <td>7</td>\n      <td>District</td>\n      <td>4976</td>\n      <td>3124928</td>\n      <td>True</td>\n    </tr>\n    <tr>\n      <th>31719</th>\n      <td>31719</td>\n      <td>Donald Carter</td>\n      <td>M</td>\n      <td>10th</td>\n      <td>Johnson High School</td>\n      <td>87</td>\n      <td>94</td>\n      <td>12</td>\n      <td>District</td>\n      <td>4761</td>\n      <td>3094650</td>\n      <td>True</td>\n    </tr>\n    <tr>\n      <th>22714</th>\n      <td>22714</td>\n      <td>Donna Holmes</td>\n      <td>F</td>\n      <td>11th</td>\n      <td>Bailey High School</td>\n      <td>90</td>\n      <td>61</td>\n      <td>7</td>\n      <td>District</td>\n      <td>4976</td>\n      <td>3124928</td>\n      <td>True</td>\n    </tr>\n    <tr>\n      <th>18517</th>\n      <td>18517</td>\n      <td>Donna Turner</td>\n      <td>F</td>\n      <td>12th</td>\n      <td>Bailey High School</td>\n      <td>79</td>\n      <td>78</td>\n      <td>7</td>\n      <td>District</td>\n      <td>4976</td>\n      <td>3124928</td>\n      <td>True</td>\n    </tr>\n    <tr>\n      <th>5076</th>\n      <td>5076</td>\n      <td>Douglas Jackson</td>\n      <td>M</td>\n      <td>11th</td>\n      <td>Figueroa High School</td>\n      <td>94</td>\n      <td>86</td>\n      <td>1</td>\n      <td>District</td>\n      <td>2949</td>\n      <td>1884411</td>\n      <td>True</td>\n    </tr>\n    <tr>\n      <th>18876</th>\n      <td>18876</td>\n      <td>Douglas Rodriguez</td>\n      <td>M</td>\n      <td>9th</td>\n      <td>Bailey High School</td>\n      <td>80</td>\n      <td>90</td>\n      <td>7</td>\n      <td>District</td>\n      <td>4976</td>\n      <td>3124928</td>\n      <td>True</td>\n    </tr>\n    <tr>\n      <th>34161</th>\n      <td>34161</td>\n      <td>Dustin Lewis</td>\n      <td>M</td>\n      <td>11th</td>\n      <td>Johnson High School</td>\n      <td>74</td>\n      <td>63</td>\n      <td>12</td>\n      <td>District</td>\n      <td>4761</td>\n      <td>3094650</td>\n      <td>True</td>\n    </tr>\n    <tr>\n      <th>20113</th>\n      <td>20113</td>\n      <td>Dylan Johnson</td>\n      <td>M</td>\n      <td>10th</td>\n      <td>Bailey High School</td>\n      <td>92</td>\n      <td>98</td>\n      <td>7</td>\n      <td>District</td>\n      <td>4976</td>\n      <td>3124928</td>\n      <td>True</td>\n    </tr>\n    <tr>\n      <th>29308</th>\n      <td>29308</td>\n      <td>Edward Taylor</td>\n      <td>M</td>\n      <td>9th</td>\n      <td>Rodriguez High School</td>\n      <td>85</td>\n      <td>93</td>\n      <td>11</td>\n      <td>District</td>\n      <td>3999</td>\n      <td>2547363</td>\n      <td>True</td>\n    </tr>\n    <tr>\n      <th>20918</th>\n      <td>20918</td>\n      <td>Elizabeth Allen</td>\n      <td>F</td>\n      <td>12th</td>\n      <td>Bailey High School</td>\n      <td>81</td>\n      <td>88</td>\n      <td>7</td>\n      <td>District</td>\n      <td>4976</td>\n      <td>3124928</td>\n      <td>True</td>\n    </tr>\n    <tr>\n      <th>21748</th>\n      <td>21748</td>\n      <td>Elizabeth Allen</td>\n      <td>F</td>\n      <td>10th</td>\n      <td>Bailey High School</td>\n      <td>78</td>\n      <td>84</td>\n      <td>7</td>\n      <td>District</td>\n      <td>4976</td>\n      <td>3124928</td>\n      <td>True</td>\n    </tr>\n    <tr>\n      <th>11309</th>\n      <td>11309</td>\n      <td>Elizabeth Fisher</td>\n      <td>F</td>\n      <td>10th</td>\n      <td>Hernandez High School</td>\n      <td>68</td>\n      <td>95</td>\n      <td>3</td>\n      <td>District</td>\n      <td>4635</td>\n      <td>3022020</td>\n      <td>True</td>\n    </tr>\n    <tr>\n      <th>33459</th>\n      <td>33459</td>\n      <td>Elizabeth Johnson</td>\n      <td>F</td>\n      <td>9th</td>\n      <td>Johnson High School</td>\n      <td>74</td>\n      <td>83</td>\n      <td>12</td>\n      <td>District</td>\n      <td>4761</td>\n      <td>3094650</td>\n      <td>True</td>\n    </tr>\n    <tr>\n      <th>23933</th>\n      <td>23933</td>\n      <td>Elizabeth Johnson</td>\n      <td>F</td>\n      <td>10th</td>\n      <td>Pena High School</td>\n      <td>75</td>\n      <td>76</td>\n      <td>9</td>\n      <td>Charter</td>\n      <td>962</td>\n      <td>585858</td>\n      <td>True</td>\n    </tr>\n    <tr>\n      <th>29070</th>\n      <td>29070</td>\n      <td>Elizabeth Nichols</td>\n      <td>F</td>\n      <td>11th</td>\n      <td>Rodriguez High School</td>\n      <td>92</td>\n      <td>92</td>\n      <td>11</td>\n      <td>District</td>\n      <td>3999</td>\n      <td>2547363</td>\n      <td>True</td>\n    </tr>\n  </tbody>\n</table>\n</div>"
     },
     "metadata": {},
     "execution_count": 22
    }
   ],
   "source": [
    "# Dependencies and Setup\n",
    "import pandas as pd\n",
    "import numpy as np\n",
    "\n",
    "\n",
    "# File to Load (Remember to Change These)\n",
    "school_data_to_load = \"Resources/schools_complete.csv\"\n",
    "student_data_to_load = \"Resources/students_complete.csv\"\n",
    "\n",
    "# Read School and Student Data File and store into Pandas DataFrames\n",
    "school_data = pd.read_csv(school_data_to_load)\n",
    "student_data = pd.read_csv(student_data_to_load)\n",
    "\n",
    "# Combine the data into a single dataset.  \n",
    "school_data_complete = pd.merge(student_data, school_data, how=\"left\", on=[\"school_name\", \"school_name\"])\n",
    "#check to see if the data set is complete across columns\n",
    "school_data_complete.count()\n",
    "\n",
    "# lots of different checks to see if there are any duplicate entries in the dataset\n",
    "used_features = [\"student_name\",\"school_name\"]\n",
    "school_data_complete[\"name_school_duplicated\"] = school_data_complete.duplicated(used_features)\n",
    "school_data_complete['name_school_duplicated'].sum()\n",
    "# found that there are 880 entries in the data set that share student names and school entry in some fashion with the above code\n",
    "school_data_complete.head()\n",
    "# Create a dataframe of just the duplicate entries to examine\n",
    "duplicate_df = school_data_complete[school_data_complete['name_school_duplicated'] == True]\n",
    "duplicate_df\n",
    "\n",
    "# Checks to see if each of the columns has equal amounts of data populated within it.  In this case, each column has 39170 entries\n",
    "school_data_complete.count()\n",
    "\n",
    "#Sorted duplicate data fram in ascending order based on student name.\n",
    "#Based on a random selection of data, it looks like each entry that shares a name represents a unique student that is \n",
    "#in a different grade, different school, and has achieved different test scores\n",
    "#Based on this I am going to assume there are no duplicate entries in this dataset.  \n",
    "sorted_duplicate_df= duplicate_df.sort_values(['student_name','school_name'], ascending=True)\n",
    "sorted_duplicate_df.iloc[200:225]"
   ]
  },
  {
   "cell_type": "code",
   "execution_count": 2,
   "metadata": {},
   "outputs": [
    {
     "output_type": "stream",
     "name": "stdout",
     "text": [
      "15\n['Huang High School' 'Figueroa High School' 'Shelton High School'\n 'Hernandez High School' 'Griffin High School' 'Wilson High School'\n 'Cabrera High School' 'Bailey High School' 'Holden High School'\n 'Pena High School' 'Wright High School' 'Rodriguez High School'\n 'Johnson High School' 'Ford High School' 'Thomas High School']\n[2917 2949 1761 4635 1468 2283 1858 4976  427  962 1800 3999 4761 2739\n 1635]\n"
     ]
    }
   ],
   "source": [
    "# use the unique pandas function on the \"school_name\" column to find out the unique entries in this column\n",
    "unique_schools = school_data_complete[\"school_name\"].unique()\n",
    "print(len(unique_schools))\n",
    "print(unique_schools)\n",
    "# use the unique function on the size column to find out the unique entries in this column\n",
    "unique_sizes = school_data_complete['size'].unique()\n",
    "print(unique_sizes)"
   ]
  },
  {
   "cell_type": "code",
   "execution_count": 3,
   "metadata": {},
   "outputs": [
    {
     "output_type": "execute_result",
     "data": {
      "text/plain": [
       "                       size\n",
       "school_name                \n",
       "Huang High School      2917\n",
       "Figueroa High School   2949\n",
       "Shelton High School    1761\n",
       "Hernandez High School  4635\n",
       "Griffin High School    1468\n",
       "Wilson High School     2283\n",
       "Cabrera High School    1858\n",
       "Bailey High School     4976\n",
       "Holden High School      427\n",
       "Pena High School        962\n",
       "Wright High School     1800\n",
       "Rodriguez High School  3999\n",
       "Johnson High School    4761\n",
       "Ford High School       2739\n",
       "Thomas High School     1635"
      ],
      "text/html": "<div>\n<style scoped>\n    .dataframe tbody tr th:only-of-type {\n        vertical-align: middle;\n    }\n\n    .dataframe tbody tr th {\n        vertical-align: top;\n    }\n\n    .dataframe thead th {\n        text-align: right;\n    }\n</style>\n<table border=\"1\" class=\"dataframe\">\n  <thead>\n    <tr style=\"text-align: right;\">\n      <th></th>\n      <th>size</th>\n    </tr>\n    <tr>\n      <th>school_name</th>\n      <th></th>\n    </tr>\n  </thead>\n  <tbody>\n    <tr>\n      <th>Huang High School</th>\n      <td>2917</td>\n    </tr>\n    <tr>\n      <th>Figueroa High School</th>\n      <td>2949</td>\n    </tr>\n    <tr>\n      <th>Shelton High School</th>\n      <td>1761</td>\n    </tr>\n    <tr>\n      <th>Hernandez High School</th>\n      <td>4635</td>\n    </tr>\n    <tr>\n      <th>Griffin High School</th>\n      <td>1468</td>\n    </tr>\n    <tr>\n      <th>Wilson High School</th>\n      <td>2283</td>\n    </tr>\n    <tr>\n      <th>Cabrera High School</th>\n      <td>1858</td>\n    </tr>\n    <tr>\n      <th>Bailey High School</th>\n      <td>4976</td>\n    </tr>\n    <tr>\n      <th>Holden High School</th>\n      <td>427</td>\n    </tr>\n    <tr>\n      <th>Pena High School</th>\n      <td>962</td>\n    </tr>\n    <tr>\n      <th>Wright High School</th>\n      <td>1800</td>\n    </tr>\n    <tr>\n      <th>Rodriguez High School</th>\n      <td>3999</td>\n    </tr>\n    <tr>\n      <th>Johnson High School</th>\n      <td>4761</td>\n    </tr>\n    <tr>\n      <th>Ford High School</th>\n      <td>2739</td>\n    </tr>\n    <tr>\n      <th>Thomas High School</th>\n      <td>1635</td>\n    </tr>\n  </tbody>\n</table>\n</div>"
     },
     "metadata": {},
     "execution_count": 3
    }
   ],
   "source": [
    "#make a dataframe for school size indexed to school_name\n",
    "schools_df = pd.DataFrame(unique_schools)\n",
    "schools_df.rename(columns={0:'school_name'},inplace = True)\n",
    "sizes_df = pd.DataFrame(unique_sizes)\n",
    "sizes_df.rename(columns={0:'size'}, inplace = True)\n",
    "school_sizes = pd.concat([schools_df, sizes_df], axis = 1)\n",
    "school_sizes_df = school_sizes.set_index(school_sizes['school_name'])\n",
    "school_sizes_df.drop('school_name', axis =1, inplace = True)\n",
    "school_sizes_df"
   ]
  },
  {
   "cell_type": "code",
   "execution_count": 4,
   "metadata": {},
   "outputs": [
    {
     "output_type": "stream",
     "name": "stdout",
     "text": [
      "32715\n39,170\n"
     ]
    }
   ],
   "source": [
    "# use the value counts for the \"student_name\" category to find out how many unique names are in the column\n",
    "unique_student_names = school_data_complete[\"student_name\"].value_counts()\n",
    "print(len(unique_student_names))\n",
    "number_of_students = school_data_complete[\"student_name\"].count()\n",
    "print(\"{:,.0f}\".format(number_of_students))\n"
   ]
  },
  {
   "cell_type": "code",
   "execution_count": 5,
   "metadata": {},
   "outputs": [
    {
     "output_type": "stream",
     "name": "stdout",
     "text": [
      "$24,649,428.00\n"
     ]
    },
    {
     "output_type": "execute_result",
     "data": {
      "text/plain": [
       "array([1910635, 1884411, 1056600, 3022020,  917500, 1319574, 1081356,\n",
       "       3124928,  248087,  585858, 1049400, 2547363, 3094650, 1763916,\n",
       "       1043130], dtype=int64)"
      ]
     },
     "metadata": {},
     "execution_count": 5
    }
   ],
   "source": [
    "#Budgets are tracked at the school level and each is a unique entry\n",
    "\n",
    "unique_budget_lines = school_data_complete['budget'].unique()\n",
    "unique_budget_lines.sum()\n",
    "print(\"${:,.2f}\".format(unique_budget_lines.sum()))\n",
    "unique_budget_lines\n"
   ]
  },
  {
   "cell_type": "code",
   "execution_count": 6,
   "metadata": {},
   "outputs": [
    {
     "output_type": "stream",
     "name": "stdout",
     "text": [
      "78.98537145774827\n78.985371\n"
     ]
    }
   ],
   "source": [
    "#calculate the average math score using the mean function in Pandas\n",
    "average_math_score = school_data_complete['math_score'].mean()\n",
    "print(average_math_score)\n",
    "print(\"{:.6f}\".format(average_math_score))\n"
   ]
  },
  {
   "cell_type": "code",
   "execution_count": 7,
   "metadata": {},
   "outputs": [
    {
     "output_type": "stream",
     "name": "stdout",
     "text": [
      "81.87784018381414\n81.877840\n"
     ]
    }
   ],
   "source": [
    "#calculate the average reading score using the mean function in Pandas\n",
    "average_reading_score = school_data_complete['reading_score'].mean()\n",
    "print(average_reading_score)\n",
    "print(\"{:.6f}\".format(average_reading_score))"
   ]
  },
  {
   "cell_type": "code",
   "execution_count": 8,
   "metadata": {},
   "outputs": [
    {
     "output_type": "stream",
     "name": "stdout",
     "text": [
      "74.9808526933878\n74.980853\n"
     ]
    }
   ],
   "source": [
    "#finds the number of students who passed the math test if the passing grade is 70\n",
    "math_students_passed_df = school_data_complete[school_data_complete['math_score'] >= 70 ]\n",
    "#passing % equal number of passing students/total students\n",
    "passing_math_students = int(len(math_students_passed_df))/int(len(school_data_complete))\n",
    "print(passing_math_students*100)\n",
    "print(\"{:.6f}\".format(passing_math_students*100))\n",
    "passing_math_students=passing_math_students*100\n"
   ]
  },
  {
   "cell_type": "code",
   "execution_count": 9,
   "metadata": {},
   "outputs": [
    {
     "output_type": "stream",
     "name": "stdout",
     "text": [
      "85.80546336482001\n85.805463\n"
     ]
    }
   ],
   "source": [
    "#finds the number of students who passed the reading test if the passing grade is 70\n",
    "reading_students_passed_df = school_data_complete[school_data_complete['reading_score'] >= 70 ]\n",
    "#passing % equal number of passing students/total students\n",
    "passing_reading_students = int(len(reading_students_passed_df))/int(len(school_data_complete))\n",
    "print(passing_reading_students*100)\n",
    "print(\"{:.6f}\".format(passing_reading_students*100))\n",
    "passing_reading_students = passing_reading_students * 100"
   ]
  },
  {
   "cell_type": "code",
   "execution_count": 10,
   "metadata": {},
   "outputs": [
    {
     "output_type": "stream",
     "name": "stdout",
     "text": [
      "65.17232575950983\n65.172326\n"
     ]
    },
    {
     "output_type": "execute_result",
     "data": {
      "text/plain": [
       "   Student ID  student_name_x gender_x grade_x      school_name_x  \\\n",
       "0           4      Bonnie Ray        F     9th  Huang High School   \n",
       "1           5   Bryan Miranda        M     9th  Huang High School   \n",
       "2           6   Sheena Carter        F    11th  Huang High School   \n",
       "3           8    Michael Roth        M    10th  Huang High School   \n",
       "4           9  Matthew Greene        M    10th  Huang High School   \n",
       "\n",
       "   reading_score_x  math_score_x  School ID_x    type_x  size_x  ...  \\\n",
       "0               97            84            0  District    2917  ...   \n",
       "1               94            94            0  District    2917  ...   \n",
       "2               82            80            0  District    2917  ...   \n",
       "3               95            87            0  District    2917  ...   \n",
       "4               96            84            0  District    2917  ...   \n",
       "\n",
       "   gender_y  grade_y      school_name_y reading_score_y math_score_y  \\\n",
       "0         F      9th  Huang High School              97           84   \n",
       "1         M      9th  Huang High School              94           94   \n",
       "2         F     11th  Huang High School              82           80   \n",
       "3         M     10th  Huang High School              95           87   \n",
       "4         M     10th  Huang High School              96           84   \n",
       "\n",
       "  School ID_y    type_y  size_y  budget_y name_school_duplicated_y  \n",
       "0           0  District    2917   1910635                    False  \n",
       "1           0  District    2917   1910635                    False  \n",
       "2           0  District    2917   1910635                    False  \n",
       "3           0  District    2917   1910635                    False  \n",
       "4           0  District    2917   1910635                    False  \n",
       "\n",
       "[5 rows x 23 columns]"
      ],
      "text/html": "<div>\n<style scoped>\n    .dataframe tbody tr th:only-of-type {\n        vertical-align: middle;\n    }\n\n    .dataframe tbody tr th {\n        vertical-align: top;\n    }\n\n    .dataframe thead th {\n        text-align: right;\n    }\n</style>\n<table border=\"1\" class=\"dataframe\">\n  <thead>\n    <tr style=\"text-align: right;\">\n      <th></th>\n      <th>Student ID</th>\n      <th>student_name_x</th>\n      <th>gender_x</th>\n      <th>grade_x</th>\n      <th>school_name_x</th>\n      <th>reading_score_x</th>\n      <th>math_score_x</th>\n      <th>School ID_x</th>\n      <th>type_x</th>\n      <th>size_x</th>\n      <th>...</th>\n      <th>gender_y</th>\n      <th>grade_y</th>\n      <th>school_name_y</th>\n      <th>reading_score_y</th>\n      <th>math_score_y</th>\n      <th>School ID_y</th>\n      <th>type_y</th>\n      <th>size_y</th>\n      <th>budget_y</th>\n      <th>name_school_duplicated_y</th>\n    </tr>\n  </thead>\n  <tbody>\n    <tr>\n      <th>0</th>\n      <td>4</td>\n      <td>Bonnie Ray</td>\n      <td>F</td>\n      <td>9th</td>\n      <td>Huang High School</td>\n      <td>97</td>\n      <td>84</td>\n      <td>0</td>\n      <td>District</td>\n      <td>2917</td>\n      <td>...</td>\n      <td>F</td>\n      <td>9th</td>\n      <td>Huang High School</td>\n      <td>97</td>\n      <td>84</td>\n      <td>0</td>\n      <td>District</td>\n      <td>2917</td>\n      <td>1910635</td>\n      <td>False</td>\n    </tr>\n    <tr>\n      <th>1</th>\n      <td>5</td>\n      <td>Bryan Miranda</td>\n      <td>M</td>\n      <td>9th</td>\n      <td>Huang High School</td>\n      <td>94</td>\n      <td>94</td>\n      <td>0</td>\n      <td>District</td>\n      <td>2917</td>\n      <td>...</td>\n      <td>M</td>\n      <td>9th</td>\n      <td>Huang High School</td>\n      <td>94</td>\n      <td>94</td>\n      <td>0</td>\n      <td>District</td>\n      <td>2917</td>\n      <td>1910635</td>\n      <td>False</td>\n    </tr>\n    <tr>\n      <th>2</th>\n      <td>6</td>\n      <td>Sheena Carter</td>\n      <td>F</td>\n      <td>11th</td>\n      <td>Huang High School</td>\n      <td>82</td>\n      <td>80</td>\n      <td>0</td>\n      <td>District</td>\n      <td>2917</td>\n      <td>...</td>\n      <td>F</td>\n      <td>11th</td>\n      <td>Huang High School</td>\n      <td>82</td>\n      <td>80</td>\n      <td>0</td>\n      <td>District</td>\n      <td>2917</td>\n      <td>1910635</td>\n      <td>False</td>\n    </tr>\n    <tr>\n      <th>3</th>\n      <td>8</td>\n      <td>Michael Roth</td>\n      <td>M</td>\n      <td>10th</td>\n      <td>Huang High School</td>\n      <td>95</td>\n      <td>87</td>\n      <td>0</td>\n      <td>District</td>\n      <td>2917</td>\n      <td>...</td>\n      <td>M</td>\n      <td>10th</td>\n      <td>Huang High School</td>\n      <td>95</td>\n      <td>87</td>\n      <td>0</td>\n      <td>District</td>\n      <td>2917</td>\n      <td>1910635</td>\n      <td>False</td>\n    </tr>\n    <tr>\n      <th>4</th>\n      <td>9</td>\n      <td>Matthew Greene</td>\n      <td>M</td>\n      <td>10th</td>\n      <td>Huang High School</td>\n      <td>96</td>\n      <td>84</td>\n      <td>0</td>\n      <td>District</td>\n      <td>2917</td>\n      <td>...</td>\n      <td>M</td>\n      <td>10th</td>\n      <td>Huang High School</td>\n      <td>96</td>\n      <td>84</td>\n      <td>0</td>\n      <td>District</td>\n      <td>2917</td>\n      <td>1910635</td>\n      <td>False</td>\n    </tr>\n  </tbody>\n</table>\n<p>5 rows × 23 columns</p>\n</div>"
     },
     "metadata": {},
     "execution_count": 10
    }
   ],
   "source": [
    "#finds the number of students who passed both tests by merging data frames with common student ids\n",
    "passing_students_df = pd.merge(math_students_passed_df, reading_students_passed_df, on=[\"Student ID\"])\n",
    "#find passing rate by calculating length of new data frame and dividing by the length of the orginal dataframe\n",
    "passing_rate = int(len(passing_students_df))/int(len(school_data_complete))\n",
    "print(passing_rate*100)\n",
    "print(\"{:.6f}\".format(passing_rate*100))\n",
    "passing_rate = passing_rate * 100\n",
    "passing_students_df.head()\n"
   ]
  },
  {
   "cell_type": "code",
   "execution_count": null,
   "metadata": {},
   "outputs": [],
   "source": [
    "total_table_df = pd."
   ]
  },
  {
   "cell_type": "markdown",
   "metadata": {},
   "source": [
    "## District Summary\n",
    "\n",
    "* Calculate the total number of schools\n",
    "\n",
    "* Calculate the total number of students\n",
    "\n",
    "* Calculate the total budget\n",
    "\n",
    "* Calculate the average math score \n",
    "\n",
    "* Calculate the average reading score\n",
    "\n",
    "* Calculate the percentage of students with a passing math score (70 or greater)\n",
    "\n",
    "* Calculate the percentage of students with a passing reading score (70 or greater)\n",
    "\n",
    "* Calculate the percentage of students who passed math **and** reading (% Overall Passing)\n",
    "\n",
    "* Create a dataframe to hold the above results\n",
    "\n",
    "* Optional: give the displayed data cleaner formatting"
   ]
  },
  {
   "cell_type": "code",
   "execution_count": 11,
   "metadata": {},
   "outputs": [
    {
     "output_type": "execute_result",
     "data": {
      "text/plain": [
       "   Total Schools Total Students    Total Budget  Average Math Score  \\\n",
       "0             15         39,170  $24,649,428.00           78.985371   \n",
       "\n",
       "   Average Reading Score  % Passing Math  % Passing Reading  % Overall Passing  \n",
       "0               81.87784       74.980853          85.805463          65.172326  "
      ],
      "text/html": "<div>\n<style scoped>\n    .dataframe tbody tr th:only-of-type {\n        vertical-align: middle;\n    }\n\n    .dataframe tbody tr th {\n        vertical-align: top;\n    }\n\n    .dataframe thead th {\n        text-align: right;\n    }\n</style>\n<table border=\"1\" class=\"dataframe\">\n  <thead>\n    <tr style=\"text-align: right;\">\n      <th></th>\n      <th>Total Schools</th>\n      <th>Total Students</th>\n      <th>Total Budget</th>\n      <th>Average Math Score</th>\n      <th>Average Reading Score</th>\n      <th>% Passing Math</th>\n      <th>% Passing Reading</th>\n      <th>% Overall Passing</th>\n    </tr>\n  </thead>\n  <tbody>\n    <tr>\n      <th>0</th>\n      <td>15</td>\n      <td>39,170</td>\n      <td>$24,649,428.00</td>\n      <td>78.985371</td>\n      <td>81.87784</td>\n      <td>74.980853</td>\n      <td>85.805463</td>\n      <td>65.172326</td>\n    </tr>\n  </tbody>\n</table>\n</div>"
     },
     "metadata": {},
     "execution_count": 11
    }
   ],
   "source": [
    "summary_df = pd.DataFrame({\n",
    "               \"Total Schools\":[len(unique_schools)],\n",
    "               \"Total Students\":[number_of_students],\n",
    "               \"Total Budget\":[unique_budget_lines.sum()],\n",
    "               \"Average Math Score\":[average_math_score],\n",
    "               \"Average Reading Score\":[average_reading_score],\n",
    "               '% Passing Math':[passing_math_students],\n",
    "               '% Passing Reading':[passing_reading_students],\n",
    "               '% Overall Passing':[passing_rate]\n",
    "               })\n",
    "summary_df['Total Students'] = summary_df['Total Students'].astype(float).map(\"{:,.0f}\".format)\n",
    "summary_df['Total Budget'] = summary_df['Total Budget'].astype(float).map(\"${:,.2f}\".format)\n",
    "summary_df\n"
   ]
  },
  {
   "cell_type": "markdown",
   "metadata": {},
   "source": [
    "## School Summary"
   ]
  },
  {
   "cell_type": "code",
   "execution_count": 12,
   "metadata": {},
   "outputs": [
    {
     "output_type": "execute_result",
     "data": {
      "text/plain": [
       "                           type            school_name\n",
       "school_name                                           \n",
       "Huang High School      District      Huang High School\n",
       "Figueroa High School   District   Figueroa High School\n",
       "Shelton High School     Charter    Shelton High School\n",
       "Hernandez High School  District  Hernandez High School\n",
       "Griffin High School     Charter    Griffin High School"
      ],
      "text/html": "<div>\n<style scoped>\n    .dataframe tbody tr th:only-of-type {\n        vertical-align: middle;\n    }\n\n    .dataframe tbody tr th {\n        vertical-align: top;\n    }\n\n    .dataframe thead th {\n        text-align: right;\n    }\n</style>\n<table border=\"1\" class=\"dataframe\">\n  <thead>\n    <tr style=\"text-align: right;\">\n      <th></th>\n      <th>type</th>\n      <th>school_name</th>\n    </tr>\n    <tr>\n      <th>school_name</th>\n      <th></th>\n      <th></th>\n    </tr>\n  </thead>\n  <tbody>\n    <tr>\n      <th>Huang High School</th>\n      <td>District</td>\n      <td>Huang High School</td>\n    </tr>\n    <tr>\n      <th>Figueroa High School</th>\n      <td>District</td>\n      <td>Figueroa High School</td>\n    </tr>\n    <tr>\n      <th>Shelton High School</th>\n      <td>Charter</td>\n      <td>Shelton High School</td>\n    </tr>\n    <tr>\n      <th>Hernandez High School</th>\n      <td>District</td>\n      <td>Hernandez High School</td>\n    </tr>\n    <tr>\n      <th>Griffin High School</th>\n      <td>Charter</td>\n      <td>Griffin High School</td>\n    </tr>\n  </tbody>\n</table>\n</div>"
     },
     "metadata": {},
     "execution_count": 12
    }
   ],
   "source": [
    "school_type = []\n",
    "for j in unique_schools:\n",
    "    flag = 0\n",
    "    for i in school_data_complete['Student ID']:\n",
    "        if school_data_complete['school_name'][i] == j and flag == 0:\n",
    "           typeholder = school_data_complete['type'][i]\n",
    "           school_type.append(typeholder)\n",
    "           flag = 1\n",
    "school_type\n",
    "type_school = pd.DataFrame(school_type, columns = ['type'])\n",
    "unique_schools = pd.DataFrame(unique_schools, columns = ['school_name'])\n",
    "\n",
    "#type_school.merge(unique_schools, on = 'index')\n",
    "#type_school.head()\n",
    "#unique_schools.head()\n",
    "#merged_type_school = type_school.astype(str) + unique_schools.astype(str)\n",
    "school_type\n",
    "school_type\n",
    "unique_schools\n",
    "type_school\n",
    "#type_school = type_school.set_index(unique_schools['school_name'])\n",
    "#merged_type_school.head()\n",
    "merged_type_school = pd.merge(type_school,unique_schools, right_index = True, left_index = True)\n",
    "merged_type_school = merged_type_school.set_index(unique_schools['school_name'])\n",
    "\n",
    "merged_type_school.head()\n",
    "#type_school\n",
    "\n"
   ]
  },
  {
   "cell_type": "code",
   "execution_count": 13,
   "metadata": {
    "tags": []
   },
   "outputs": [
    {
     "output_type": "execute_result",
     "data": {
      "text/plain": [
       "school_name_x\n",
       "Bailey High School       0.546423\n",
       "Cabrera High School      0.913348\n",
       "Figueroa High School     0.532045\n",
       "Ford High School         0.542899\n",
       "Griffin High School      0.905995\n",
       "Hernandez High School    0.535275\n",
       "Holden High School       0.892272\n",
       "Huang High School        0.535139\n",
       "Johnson High School      0.535392\n",
       "Pena High School         0.905405\n",
       "Rodriguez High School    0.529882\n",
       "Shelton High School      0.898921\n",
       "Thomas High School       0.909480\n",
       "Wilson High School       0.905826\n",
       "Wright High School       0.903333\n",
       "Name: Student ID, dtype: float64"
      ]
     },
     "metadata": {},
     "execution_count": 13
    }
   ],
   "source": [
    "#assign a new column to master dataframe to calculate if a student passed math\n",
    "math_pf = []\n",
    "for i in school_data_complete['Student ID']:  \n",
    "    if school_data_complete['math_score'][i] >= 70:\n",
    "        math_pf.append(1)\n",
    "    else:\n",
    "        math_pf.append(0)\n",
    "school_data_complete['Passed Math'] = math_pf\n",
    "school_data_complete.head()\n",
    "\n",
    "#assign a new column to master dataframe to calculate if a student passed math\n",
    "reading_pf = []\n",
    "for i in school_data_complete['Student ID']:  \n",
    "    if school_data_complete['reading_score'][i] >= 70:\n",
    "        reading_pf.append(1)\n",
    "    else:\n",
    "       reading_pf.append(0)\n",
    "school_data_complete['Passed Reading'] = reading_pf\n",
    "school_data_complete.head()\n",
    "\n",
    "#Group by school statement\n",
    "group_by_school_df = school_data_complete.groupby([\"school_name\"])\n",
    "group_by_school_df.count()\n",
    "school_summary = group_by_school_df\n",
    "school_summary = school_summary[['Student ID','reading_score','math_score','type','budget','Passed Math','Passed Reading']]\n",
    " \n",
    "#create df for the student counts\n",
    "student_counts = school_data_complete.groupby(['school_name']).count()['Student ID']\n",
    "student_counts\n",
    "\n",
    "#Calculate budget per school\n",
    "school_budgets = school_data_complete.groupby(['school_name']).sum()['budget']/student_counts\n",
    "school_budgets\n",
    "\n",
    "#Calculate budget per student\n",
    "budget_per_student = school_budgets / student_counts\n",
    "budget_per_student\n",
    "\n",
    "#Calculate Average Math Score per student by school\n",
    "school_math_scores = school_data_complete.groupby(['school_name']).sum()['math_score']\n",
    "average_mathscore_school = school_math_scores / student_counts\n",
    "average_mathscore_school\n",
    "\n",
    "#Calculate Average Reading Score per student by school\n",
    "school_reading_scores = school_data_complete.groupby(['school_name']).sum()['reading_score']\n",
    "average_readingscore_school = school_reading_scores / student_counts\n",
    "average_readingscore_school\n",
    "#school_summary.count()\n",
    "\n",
    "#Calculate the % of students who are passing math at each school\n",
    "\n",
    "#assign a new column to master dataframe to calculate if a student passed math\n",
    "math_pf = []\n",
    "for i in school_data_complete['Student ID']:  \n",
    "    if school_data_complete['math_score'][i] >= 70:\n",
    "        math_pf.append(1)\n",
    "    else:\n",
    "        math_pf.append(0)\n",
    "school_data_complete['Passed Math'] = math_pf\n",
    "school_data_complete.head()\n",
    "\n",
    "#assign a new column to master dataframe to calculate if a student passed math\n",
    "reading_pf = []\n",
    "for i in school_data_complete['Student ID']:  \n",
    "    if school_data_complete['reading_score'][i] >= 70:\n",
    "        reading_pf.append(1)\n",
    "    else:\n",
    "       reading_pf.append(0)\n",
    "school_data_complete['Passed Reading'] = reading_pf\n",
    "school_data_complete.head()\n",
    "\n",
    "#Calculate the % of students who are passing math at each school\n",
    "school_passed_math_scores =school_data_complete.groupby(['school_name']).sum()['Passed Math'] \n",
    "school_passing_math_rate = school_passed_math_scores / student_counts\n",
    "school_passing_math_rate\n",
    "\n",
    "#Calculate the % of students who are passing reading at each school\n",
    "school_passed_reading_scores =school_data_complete.groupby(['school_name']).sum()['Passed Reading'] \n",
    "school_passing_reading_rate = school_passed_reading_scores / student_counts\n",
    "school_passing_reading_rate\n",
    "\n",
    "#Find passing students by utilizing earlier merged dataframe of only passing students\n",
    "overall_passing_rates = passing_students_df.groupby('school_name_x').count()['Student ID'] \n",
    "school_passing_rates = overall_passing_rates / student_counts\n",
    "#school_passing_rates.rename(columns={'school_name_x':'school_name',' ':'% Overall Passing'})\n",
    "school_passing_rates\n",
    "\n"
   ]
  },
  {
   "cell_type": "code",
   "execution_count": 17,
   "metadata": {},
   "outputs": [
    {
     "output_type": "execute_result",
     "data": {
      "text/plain": [
       "                           type  Total Students  Total School Budget  \\\n",
       "Huang High School      District            2917            1910635.0   \n",
       "Figueroa High School   District            2949            1884411.0   \n",
       "Shelton High School     Charter            1761            1056600.0   \n",
       "Hernandez High School  District            4635            3022020.0   \n",
       "Griffin High School     Charter            1468             917500.0   \n",
       "Wilson High School      Charter            2283            1319574.0   \n",
       "Cabrera High School     Charter            1858            1081356.0   \n",
       "Bailey High School     District            4976            3124928.0   \n",
       "Holden High School      Charter             427             248087.0   \n",
       "Pena High School        Charter             962             585858.0   \n",
       "Wright High School      Charter            1800            1049400.0   \n",
       "Rodriguez High School  District            3999            2547363.0   \n",
       "Johnson High School    District            4761            3094650.0   \n",
       "Ford High School       District            2739            1763916.0   \n",
       "Thomas High School      Charter            1635            1043130.0   \n",
       "\n",
       "                       Per Student Budget  Average Math Score  \\\n",
       "Huang High School                   655.0           76.629414   \n",
       "Figueroa High School                639.0           76.711767   \n",
       "Shelton High School                 600.0           83.359455   \n",
       "Hernandez High School               652.0           77.289752   \n",
       "Griffin High School                 625.0           83.351499   \n",
       "Wilson High School                  578.0           83.274201   \n",
       "Cabrera High School                 582.0           83.061895   \n",
       "Bailey High School                  628.0           77.048432   \n",
       "Holden High School                  581.0           83.803279   \n",
       "Pena High School                    609.0           83.839917   \n",
       "Wright High School                  583.0           83.682222   \n",
       "Rodriguez High School               637.0           76.842711   \n",
       "Johnson High School                 650.0           77.072464   \n",
       "Ford High School                    644.0           77.102592   \n",
       "Thomas High School                  638.0           83.418349   \n",
       "\n",
       "                       Average Reading Score  % Passing Math  \\\n",
       "Huang High School                  81.182722        0.656839   \n",
       "Figueroa High School               81.158020        0.659885   \n",
       "Shelton High School                83.725724        0.938671   \n",
       "Hernandez High School              80.934412        0.667530   \n",
       "Griffin High School                83.816757        0.933924   \n",
       "Wilson High School                 83.989488        0.938677   \n",
       "Cabrera High School                83.975780        0.941335   \n",
       "Bailey High School                 81.033963        0.666801   \n",
       "Holden High School                 83.814988        0.925059   \n",
       "Pena High School                   84.044699        0.945946   \n",
       "Wright High School                 83.955000        0.933333   \n",
       "Rodriguez High School              80.744686        0.663666   \n",
       "Johnson High School                80.966394        0.660576   \n",
       "Ford High School                   80.746258        0.683096   \n",
       "Thomas High School                 83.848930        0.932722   \n",
       "\n",
       "                       % Passing Reading  % Overall Passing  \n",
       "Huang High School               0.813164           0.535139  \n",
       "Figueroa High School            0.807392           0.532045  \n",
       "Shelton High School             0.958546           0.898921  \n",
       "Hernandez High School           0.808630           0.535275  \n",
       "Griffin High School             0.971390           0.905995  \n",
       "Wilson High School              0.965396           0.905826  \n",
       "Cabrera High School             0.970398           0.913348  \n",
       "Bailey High School              0.819333           0.546423  \n",
       "Holden High School              0.962529           0.892272  \n",
       "Pena High School                0.959459           0.905405  \n",
       "Wright High School              0.966111           0.903333  \n",
       "Rodriguez High School           0.802201           0.529882  \n",
       "Johnson High School             0.812224           0.535392  \n",
       "Ford High School                0.792990           0.542899  \n",
       "Thomas High School              0.973089           0.909480  "
      ],
      "text/html": "<div>\n<style scoped>\n    .dataframe tbody tr th:only-of-type {\n        vertical-align: middle;\n    }\n\n    .dataframe tbody tr th {\n        vertical-align: top;\n    }\n\n    .dataframe thead th {\n        text-align: right;\n    }\n</style>\n<table border=\"1\" class=\"dataframe\">\n  <thead>\n    <tr style=\"text-align: right;\">\n      <th></th>\n      <th>type</th>\n      <th>Total Students</th>\n      <th>Total School Budget</th>\n      <th>Per Student Budget</th>\n      <th>Average Math Score</th>\n      <th>Average Reading Score</th>\n      <th>% Passing Math</th>\n      <th>% Passing Reading</th>\n      <th>% Overall Passing</th>\n    </tr>\n  </thead>\n  <tbody>\n    <tr>\n      <th>Huang High School</th>\n      <td>District</td>\n      <td>2917</td>\n      <td>1910635.0</td>\n      <td>655.0</td>\n      <td>76.629414</td>\n      <td>81.182722</td>\n      <td>0.656839</td>\n      <td>0.813164</td>\n      <td>0.535139</td>\n    </tr>\n    <tr>\n      <th>Figueroa High School</th>\n      <td>District</td>\n      <td>2949</td>\n      <td>1884411.0</td>\n      <td>639.0</td>\n      <td>76.711767</td>\n      <td>81.158020</td>\n      <td>0.659885</td>\n      <td>0.807392</td>\n      <td>0.532045</td>\n    </tr>\n    <tr>\n      <th>Shelton High School</th>\n      <td>Charter</td>\n      <td>1761</td>\n      <td>1056600.0</td>\n      <td>600.0</td>\n      <td>83.359455</td>\n      <td>83.725724</td>\n      <td>0.938671</td>\n      <td>0.958546</td>\n      <td>0.898921</td>\n    </tr>\n    <tr>\n      <th>Hernandez High School</th>\n      <td>District</td>\n      <td>4635</td>\n      <td>3022020.0</td>\n      <td>652.0</td>\n      <td>77.289752</td>\n      <td>80.934412</td>\n      <td>0.667530</td>\n      <td>0.808630</td>\n      <td>0.535275</td>\n    </tr>\n    <tr>\n      <th>Griffin High School</th>\n      <td>Charter</td>\n      <td>1468</td>\n      <td>917500.0</td>\n      <td>625.0</td>\n      <td>83.351499</td>\n      <td>83.816757</td>\n      <td>0.933924</td>\n      <td>0.971390</td>\n      <td>0.905995</td>\n    </tr>\n    <tr>\n      <th>Wilson High School</th>\n      <td>Charter</td>\n      <td>2283</td>\n      <td>1319574.0</td>\n      <td>578.0</td>\n      <td>83.274201</td>\n      <td>83.989488</td>\n      <td>0.938677</td>\n      <td>0.965396</td>\n      <td>0.905826</td>\n    </tr>\n    <tr>\n      <th>Cabrera High School</th>\n      <td>Charter</td>\n      <td>1858</td>\n      <td>1081356.0</td>\n      <td>582.0</td>\n      <td>83.061895</td>\n      <td>83.975780</td>\n      <td>0.941335</td>\n      <td>0.970398</td>\n      <td>0.913348</td>\n    </tr>\n    <tr>\n      <th>Bailey High School</th>\n      <td>District</td>\n      <td>4976</td>\n      <td>3124928.0</td>\n      <td>628.0</td>\n      <td>77.048432</td>\n      <td>81.033963</td>\n      <td>0.666801</td>\n      <td>0.819333</td>\n      <td>0.546423</td>\n    </tr>\n    <tr>\n      <th>Holden High School</th>\n      <td>Charter</td>\n      <td>427</td>\n      <td>248087.0</td>\n      <td>581.0</td>\n      <td>83.803279</td>\n      <td>83.814988</td>\n      <td>0.925059</td>\n      <td>0.962529</td>\n      <td>0.892272</td>\n    </tr>\n    <tr>\n      <th>Pena High School</th>\n      <td>Charter</td>\n      <td>962</td>\n      <td>585858.0</td>\n      <td>609.0</td>\n      <td>83.839917</td>\n      <td>84.044699</td>\n      <td>0.945946</td>\n      <td>0.959459</td>\n      <td>0.905405</td>\n    </tr>\n    <tr>\n      <th>Wright High School</th>\n      <td>Charter</td>\n      <td>1800</td>\n      <td>1049400.0</td>\n      <td>583.0</td>\n      <td>83.682222</td>\n      <td>83.955000</td>\n      <td>0.933333</td>\n      <td>0.966111</td>\n      <td>0.903333</td>\n    </tr>\n    <tr>\n      <th>Rodriguez High School</th>\n      <td>District</td>\n      <td>3999</td>\n      <td>2547363.0</td>\n      <td>637.0</td>\n      <td>76.842711</td>\n      <td>80.744686</td>\n      <td>0.663666</td>\n      <td>0.802201</td>\n      <td>0.529882</td>\n    </tr>\n    <tr>\n      <th>Johnson High School</th>\n      <td>District</td>\n      <td>4761</td>\n      <td>3094650.0</td>\n      <td>650.0</td>\n      <td>77.072464</td>\n      <td>80.966394</td>\n      <td>0.660576</td>\n      <td>0.812224</td>\n      <td>0.535392</td>\n    </tr>\n    <tr>\n      <th>Ford High School</th>\n      <td>District</td>\n      <td>2739</td>\n      <td>1763916.0</td>\n      <td>644.0</td>\n      <td>77.102592</td>\n      <td>80.746258</td>\n      <td>0.683096</td>\n      <td>0.792990</td>\n      <td>0.542899</td>\n    </tr>\n    <tr>\n      <th>Thomas High School</th>\n      <td>Charter</td>\n      <td>1635</td>\n      <td>1043130.0</td>\n      <td>638.0</td>\n      <td>83.418349</td>\n      <td>83.848930</td>\n      <td>0.932722</td>\n      <td>0.973089</td>\n      <td>0.909480</td>\n    </tr>\n  </tbody>\n</table>\n</div>"
     },
     "metadata": {},
     "execution_count": 17
    }
   ],
   "source": [
    "#Construct table that summarizes metrics\n",
    "\n",
    "#convert student counts into a data frame and rename the column\n",
    "student_counts = pd.DataFrame(student_counts)\n",
    "student_counts.rename(columns={\"Student ID\":\"Total Students\"}, inplace = True)\n",
    "\n",
    "#merge the type of school data frame with the student count dataframe and then drop the redundant school_name column\n",
    "school_summary_table_df = pd.merge(merged_type_school,student_counts,left_index=True, right_index=True)\n",
    "school_summary_table_df\n",
    "school_summary_table_df.drop('school_name', axis =1, inplace = True)\n",
    "school_summary_table_df\n",
    "\n",
    "#convert total budgets into a data frame and rename the column\n",
    "school_budgets = pd.DataFrame(school_budgets)\n",
    "school_budgets.rename(columns={0:'Total School Budget'}, inplace = True)\n",
    "\n",
    "#merge total budget data frame into school summary \n",
    "school_summary_table_df = pd.merge(school_summary_table_df, school_budgets, left_index = True, right_index = True)\n",
    "school_summary_table_df\n",
    "\n",
    "#convert budget per student into a dataframe and rename the column\n",
    "budget_per_student = pd.DataFrame(budget_per_student)\n",
    "budget_per_student.rename(columns={0:'Per Student Budget'}, inplace = True)\n",
    "budget_per_student\n",
    "\n",
    "#merge budget per student into school summary\n",
    "school_summary_table_df = pd.merge(school_summary_table_df, budget_per_student, left_index = True, right_index = True)\n",
    "school_summary_table_df\n",
    "\n",
    "#convert average math score to a dataframe and rename the column\n",
    "average_mathscore_school = pd.DataFrame(average_mathscore_school)\n",
    "average_mathscore_school.rename(columns={0:'Average Math Score'}, inplace = True)\n",
    "\n",
    "#merge average math score into school summary\n",
    "school_summary_table_df = pd.merge(school_summary_table_df, average_mathscore_school, left_index = True, right_index = True)\n",
    "school_summary_table_df\n",
    "\n",
    "#convert average reading score to a dataframe and rename the column\n",
    "average_readingscore_school = pd.DataFrame(average_readingscore_school)\n",
    "average_readingscore_school.rename(columns={0:'Average Reading Score'}, inplace = True)\n",
    "\n",
    "#merge average reading score into school summary\n",
    "school_summary_table_df = pd.merge(school_summary_table_df, average_readingscore_school, left_index = True, right_index = True)\n",
    "school_summary_table_df\n",
    "\n",
    "#convert % passing math to a dataframe and rename the column\n",
    "school_passing_math_rate = pd.DataFrame(school_passing_math_rate)\n",
    "school_passing_math_rate.rename(columns={0:'% Passing Math'}, inplace = True)\n",
    "\n",
    "#merge % passing math score into school summary\n",
    "school_summary_table_df = pd.merge(school_summary_table_df, school_passing_math_rate, left_index = True, right_index = True)\n",
    "school_summary_table_df\n",
    "\n",
    "#convert % passing reading to a dataframe and rename the column\n",
    "school_passing_reading_rate = pd.DataFrame(school_passing_reading_rate)\n",
    "school_passing_reading_rate.rename(columns={0:'% Passing Reading'}, inplace = True)\n",
    "\n",
    "#merge % passing reading score into school summary\n",
    "school_summary_table_df = pd.merge(school_summary_table_df, school_passing_reading_rate, left_index = True, right_index = True)\n",
    "school_summary_table_df\n",
    "\n",
    "#convert % overall passing to a dataframe and rename the column\n",
    "school_passing_rates = pd.DataFrame(school_passing_rates)\n",
    "school_passing_rates.rename(columns={\"Student ID\":'% Overall Passing'}, inplace = True)\n",
    "\n",
    "#merge % overall passing score into school summary\n",
    "school_summary_table_df = pd.merge(school_summary_table_df, school_passing_rates, left_index = True, right_index = True)\n",
    "school_summary_table_df\n",
    "\n",
    "#sort table by index in ascending order\n",
    "school_summary_table_df.sort_index()"
   ]
  },
  {
   "cell_type": "markdown",
   "metadata": {},
   "source": [
    "* Create an overview table that summarizes key metrics about each school, including:\n",
    "  * School Name\n",
    "  * School Type\n",
    "  * Total Students\n",
    "  * Total School Budget\n",
    "  * Per Student Budget\n",
    "  * Average Math Score\n",
    "  * Average Reading Score\n",
    "  * % Passing Math\n",
    "  * % Passing Reading\n",
    "  * % Overall Passing (The percentage of students that passed math **and** reading.)\n",
    "  \n",
    "* Create a dataframe to hold the above results"
   ]
  },
  {
   "cell_type": "code",
   "execution_count": 9,
   "metadata": {},
   "outputs": [
    {
     "data": {
      "text/html": [
       "<div>\n",
       "<style scoped>\n",
       "    .dataframe tbody tr th:only-of-type {\n",
       "        vertical-align: middle;\n",
       "    }\n",
       "\n",
       "    .dataframe tbody tr th {\n",
       "        vertical-align: top;\n",
       "    }\n",
       "\n",
       "    .dataframe thead th {\n",
       "        text-align: right;\n",
       "    }\n",
       "</style>\n",
       "<table border=\"1\" class=\"dataframe\">\n",
       "  <thead>\n",
       "    <tr style=\"text-align: right;\">\n",
       "      <th></th>\n",
       "      <th>School Type</th>\n",
       "      <th>Total Students</th>\n",
       "      <th>Total School Budget</th>\n",
       "      <th>Per Student Budget</th>\n",
       "      <th>Average Math Score</th>\n",
       "      <th>Average Reading Score</th>\n",
       "      <th>% Passing Math</th>\n",
       "      <th>% Passing Reading</th>\n",
       "      <th>% Overall Passing</th>\n",
       "    </tr>\n",
       "  </thead>\n",
       "  <tbody>\n",
       "    <tr>\n",
       "      <th>Bailey High School</th>\n",
       "      <td>District</td>\n",
       "      <td>4976</td>\n",
       "      <td>$3,124,928.00</td>\n",
       "      <td>$628.00</td>\n",
       "      <td>77.048432</td>\n",
       "      <td>81.033963</td>\n",
       "      <td>66.680064</td>\n",
       "      <td>81.933280</td>\n",
       "      <td>54.642283</td>\n",
       "    </tr>\n",
       "    <tr>\n",
       "      <th>Cabrera High School</th>\n",
       "      <td>Charter</td>\n",
       "      <td>1858</td>\n",
       "      <td>$1,081,356.00</td>\n",
       "      <td>$582.00</td>\n",
       "      <td>83.061895</td>\n",
       "      <td>83.975780</td>\n",
       "      <td>94.133477</td>\n",
       "      <td>97.039828</td>\n",
       "      <td>91.334769</td>\n",
       "    </tr>\n",
       "    <tr>\n",
       "      <th>Figueroa High School</th>\n",
       "      <td>District</td>\n",
       "      <td>2949</td>\n",
       "      <td>$1,884,411.00</td>\n",
       "      <td>$639.00</td>\n",
       "      <td>76.711767</td>\n",
       "      <td>81.158020</td>\n",
       "      <td>65.988471</td>\n",
       "      <td>80.739234</td>\n",
       "      <td>53.204476</td>\n",
       "    </tr>\n",
       "    <tr>\n",
       "      <th>Ford High School</th>\n",
       "      <td>District</td>\n",
       "      <td>2739</td>\n",
       "      <td>$1,763,916.00</td>\n",
       "      <td>$644.00</td>\n",
       "      <td>77.102592</td>\n",
       "      <td>80.746258</td>\n",
       "      <td>68.309602</td>\n",
       "      <td>79.299014</td>\n",
       "      <td>54.289887</td>\n",
       "    </tr>\n",
       "    <tr>\n",
       "      <th>Griffin High School</th>\n",
       "      <td>Charter</td>\n",
       "      <td>1468</td>\n",
       "      <td>$917,500.00</td>\n",
       "      <td>$625.00</td>\n",
       "      <td>83.351499</td>\n",
       "      <td>83.816757</td>\n",
       "      <td>93.392371</td>\n",
       "      <td>97.138965</td>\n",
       "      <td>90.599455</td>\n",
       "    </tr>\n",
       "    <tr>\n",
       "      <th>Hernandez High School</th>\n",
       "      <td>District</td>\n",
       "      <td>4635</td>\n",
       "      <td>$3,022,020.00</td>\n",
       "      <td>$652.00</td>\n",
       "      <td>77.289752</td>\n",
       "      <td>80.934412</td>\n",
       "      <td>66.752967</td>\n",
       "      <td>80.862999</td>\n",
       "      <td>53.527508</td>\n",
       "    </tr>\n",
       "    <tr>\n",
       "      <th>Holden High School</th>\n",
       "      <td>Charter</td>\n",
       "      <td>427</td>\n",
       "      <td>$248,087.00</td>\n",
       "      <td>$581.00</td>\n",
       "      <td>83.803279</td>\n",
       "      <td>83.814988</td>\n",
       "      <td>92.505855</td>\n",
       "      <td>96.252927</td>\n",
       "      <td>89.227166</td>\n",
       "    </tr>\n",
       "    <tr>\n",
       "      <th>Huang High School</th>\n",
       "      <td>District</td>\n",
       "      <td>2917</td>\n",
       "      <td>$1,910,635.00</td>\n",
       "      <td>$655.00</td>\n",
       "      <td>76.629414</td>\n",
       "      <td>81.182722</td>\n",
       "      <td>65.683922</td>\n",
       "      <td>81.316421</td>\n",
       "      <td>53.513884</td>\n",
       "    </tr>\n",
       "    <tr>\n",
       "      <th>Johnson High School</th>\n",
       "      <td>District</td>\n",
       "      <td>4761</td>\n",
       "      <td>$3,094,650.00</td>\n",
       "      <td>$650.00</td>\n",
       "      <td>77.072464</td>\n",
       "      <td>80.966394</td>\n",
       "      <td>66.057551</td>\n",
       "      <td>81.222432</td>\n",
       "      <td>53.539172</td>\n",
       "    </tr>\n",
       "    <tr>\n",
       "      <th>Pena High School</th>\n",
       "      <td>Charter</td>\n",
       "      <td>962</td>\n",
       "      <td>$585,858.00</td>\n",
       "      <td>$609.00</td>\n",
       "      <td>83.839917</td>\n",
       "      <td>84.044699</td>\n",
       "      <td>94.594595</td>\n",
       "      <td>95.945946</td>\n",
       "      <td>90.540541</td>\n",
       "    </tr>\n",
       "    <tr>\n",
       "      <th>Rodriguez High School</th>\n",
       "      <td>District</td>\n",
       "      <td>3999</td>\n",
       "      <td>$2,547,363.00</td>\n",
       "      <td>$637.00</td>\n",
       "      <td>76.842711</td>\n",
       "      <td>80.744686</td>\n",
       "      <td>66.366592</td>\n",
       "      <td>80.220055</td>\n",
       "      <td>52.988247</td>\n",
       "    </tr>\n",
       "    <tr>\n",
       "      <th>Shelton High School</th>\n",
       "      <td>Charter</td>\n",
       "      <td>1761</td>\n",
       "      <td>$1,056,600.00</td>\n",
       "      <td>$600.00</td>\n",
       "      <td>83.359455</td>\n",
       "      <td>83.725724</td>\n",
       "      <td>93.867121</td>\n",
       "      <td>95.854628</td>\n",
       "      <td>89.892107</td>\n",
       "    </tr>\n",
       "    <tr>\n",
       "      <th>Thomas High School</th>\n",
       "      <td>Charter</td>\n",
       "      <td>1635</td>\n",
       "      <td>$1,043,130.00</td>\n",
       "      <td>$638.00</td>\n",
       "      <td>83.418349</td>\n",
       "      <td>83.848930</td>\n",
       "      <td>93.272171</td>\n",
       "      <td>97.308869</td>\n",
       "      <td>90.948012</td>\n",
       "    </tr>\n",
       "    <tr>\n",
       "      <th>Wilson High School</th>\n",
       "      <td>Charter</td>\n",
       "      <td>2283</td>\n",
       "      <td>$1,319,574.00</td>\n",
       "      <td>$578.00</td>\n",
       "      <td>83.274201</td>\n",
       "      <td>83.989488</td>\n",
       "      <td>93.867718</td>\n",
       "      <td>96.539641</td>\n",
       "      <td>90.582567</td>\n",
       "    </tr>\n",
       "    <tr>\n",
       "      <th>Wright High School</th>\n",
       "      <td>Charter</td>\n",
       "      <td>1800</td>\n",
       "      <td>$1,049,400.00</td>\n",
       "      <td>$583.00</td>\n",
       "      <td>83.682222</td>\n",
       "      <td>83.955000</td>\n",
       "      <td>93.333333</td>\n",
       "      <td>96.611111</td>\n",
       "      <td>90.333333</td>\n",
       "    </tr>\n",
       "  </tbody>\n",
       "</table>\n",
       "</div>"
      ],
      "text/plain": [
       "                      School Type  Total Students Total School Budget  \\\n",
       "Bailey High School       District            4976       $3,124,928.00   \n",
       "Cabrera High School       Charter            1858       $1,081,356.00   \n",
       "Figueroa High School     District            2949       $1,884,411.00   \n",
       "Ford High School         District            2739       $1,763,916.00   \n",
       "Griffin High School       Charter            1468         $917,500.00   \n",
       "Hernandez High School    District            4635       $3,022,020.00   \n",
       "Holden High School        Charter             427         $248,087.00   \n",
       "Huang High School        District            2917       $1,910,635.00   \n",
       "Johnson High School      District            4761       $3,094,650.00   \n",
       "Pena High School          Charter             962         $585,858.00   \n",
       "Rodriguez High School    District            3999       $2,547,363.00   \n",
       "Shelton High School       Charter            1761       $1,056,600.00   \n",
       "Thomas High School        Charter            1635       $1,043,130.00   \n",
       "Wilson High School        Charter            2283       $1,319,574.00   \n",
       "Wright High School        Charter            1800       $1,049,400.00   \n",
       "\n",
       "                      Per Student Budget  Average Math Score  \\\n",
       "Bailey High School               $628.00           77.048432   \n",
       "Cabrera High School              $582.00           83.061895   \n",
       "Figueroa High School             $639.00           76.711767   \n",
       "Ford High School                 $644.00           77.102592   \n",
       "Griffin High School              $625.00           83.351499   \n",
       "Hernandez High School            $652.00           77.289752   \n",
       "Holden High School               $581.00           83.803279   \n",
       "Huang High School                $655.00           76.629414   \n",
       "Johnson High School              $650.00           77.072464   \n",
       "Pena High School                 $609.00           83.839917   \n",
       "Rodriguez High School            $637.00           76.842711   \n",
       "Shelton High School              $600.00           83.359455   \n",
       "Thomas High School               $638.00           83.418349   \n",
       "Wilson High School               $578.00           83.274201   \n",
       "Wright High School               $583.00           83.682222   \n",
       "\n",
       "                       Average Reading Score  % Passing Math  \\\n",
       "Bailey High School                 81.033963       66.680064   \n",
       "Cabrera High School                83.975780       94.133477   \n",
       "Figueroa High School               81.158020       65.988471   \n",
       "Ford High School                   80.746258       68.309602   \n",
       "Griffin High School                83.816757       93.392371   \n",
       "Hernandez High School              80.934412       66.752967   \n",
       "Holden High School                 83.814988       92.505855   \n",
       "Huang High School                  81.182722       65.683922   \n",
       "Johnson High School                80.966394       66.057551   \n",
       "Pena High School                   84.044699       94.594595   \n",
       "Rodriguez High School              80.744686       66.366592   \n",
       "Shelton High School                83.725724       93.867121   \n",
       "Thomas High School                 83.848930       93.272171   \n",
       "Wilson High School                 83.989488       93.867718   \n",
       "Wright High School                 83.955000       93.333333   \n",
       "\n",
       "                       % Passing Reading  % Overall Passing  \n",
       "Bailey High School             81.933280          54.642283  \n",
       "Cabrera High School            97.039828          91.334769  \n",
       "Figueroa High School           80.739234          53.204476  \n",
       "Ford High School               79.299014          54.289887  \n",
       "Griffin High School            97.138965          90.599455  \n",
       "Hernandez High School          80.862999          53.527508  \n",
       "Holden High School             96.252927          89.227166  \n",
       "Huang High School              81.316421          53.513884  \n",
       "Johnson High School            81.222432          53.539172  \n",
       "Pena High School               95.945946          90.540541  \n",
       "Rodriguez High School          80.220055          52.988247  \n",
       "Shelton High School            95.854628          89.892107  \n",
       "Thomas High School             97.308869          90.948012  \n",
       "Wilson High School             96.539641          90.582567  \n",
       "Wright High School             96.611111          90.333333  "
      ]
     },
     "execution_count": 9,
     "metadata": {},
     "output_type": "execute_result"
    }
   ],
   "source": []
  },
  {
   "cell_type": "markdown",
   "metadata": {},
   "source": [
    "## Top Performing Schools (By % Overall Passing)"
   ]
  },
  {
   "source": [
    "* Sort and display the top five performing schools by % overall passing.\n"
   ],
   "cell_type": "code",
   "metadata": {},
   "execution_count": null,
   "outputs": []
  },
  {
   "cell_type": "code",
   "execution_count": 19,
   "metadata": {},
   "outputs": [
    {
     "output_type": "execute_result",
     "data": {
      "text/plain": [
       "                        type  Total Students  Total School Budget  \\\n",
       "Cabrera High School  Charter            1858            1081356.0   \n",
       "Thomas High School   Charter            1635            1043130.0   \n",
       "Griffin High School  Charter            1468             917500.0   \n",
       "Wilson High School   Charter            2283            1319574.0   \n",
       "Pena High School     Charter             962             585858.0   \n",
       "\n",
       "                     Per Student Budget  Average Math Score  \\\n",
       "Cabrera High School               582.0           83.061895   \n",
       "Thomas High School                638.0           83.418349   \n",
       "Griffin High School               625.0           83.351499   \n",
       "Wilson High School                578.0           83.274201   \n",
       "Pena High School                  609.0           83.839917   \n",
       "\n",
       "                     Average Reading Score  % Passing Math  % Passing Reading  \\\n",
       "Cabrera High School              83.975780        0.941335           0.970398   \n",
       "Thomas High School               83.848930        0.932722           0.973089   \n",
       "Griffin High School              83.816757        0.933924           0.971390   \n",
       "Wilson High School               83.989488        0.938677           0.965396   \n",
       "Pena High School                 84.044699        0.945946           0.959459   \n",
       "\n",
       "                     % Overall Passing  \n",
       "Cabrera High School           0.913348  \n",
       "Thomas High School            0.909480  \n",
       "Griffin High School           0.905995  \n",
       "Wilson High School            0.905826  \n",
       "Pena High School              0.905405  "
      ],
      "text/html": "<div>\n<style scoped>\n    .dataframe tbody tr th:only-of-type {\n        vertical-align: middle;\n    }\n\n    .dataframe tbody tr th {\n        vertical-align: top;\n    }\n\n    .dataframe thead th {\n        text-align: right;\n    }\n</style>\n<table border=\"1\" class=\"dataframe\">\n  <thead>\n    <tr style=\"text-align: right;\">\n      <th></th>\n      <th>type</th>\n      <th>Total Students</th>\n      <th>Total School Budget</th>\n      <th>Per Student Budget</th>\n      <th>Average Math Score</th>\n      <th>Average Reading Score</th>\n      <th>% Passing Math</th>\n      <th>% Passing Reading</th>\n      <th>% Overall Passing</th>\n    </tr>\n  </thead>\n  <tbody>\n    <tr>\n      <th>Cabrera High School</th>\n      <td>Charter</td>\n      <td>1858</td>\n      <td>1081356.0</td>\n      <td>582.0</td>\n      <td>83.061895</td>\n      <td>83.975780</td>\n      <td>0.941335</td>\n      <td>0.970398</td>\n      <td>0.913348</td>\n    </tr>\n    <tr>\n      <th>Thomas High School</th>\n      <td>Charter</td>\n      <td>1635</td>\n      <td>1043130.0</td>\n      <td>638.0</td>\n      <td>83.418349</td>\n      <td>83.848930</td>\n      <td>0.932722</td>\n      <td>0.973089</td>\n      <td>0.909480</td>\n    </tr>\n    <tr>\n      <th>Griffin High School</th>\n      <td>Charter</td>\n      <td>1468</td>\n      <td>917500.0</td>\n      <td>625.0</td>\n      <td>83.351499</td>\n      <td>83.816757</td>\n      <td>0.933924</td>\n      <td>0.971390</td>\n      <td>0.905995</td>\n    </tr>\n    <tr>\n      <th>Wilson High School</th>\n      <td>Charter</td>\n      <td>2283</td>\n      <td>1319574.0</td>\n      <td>578.0</td>\n      <td>83.274201</td>\n      <td>83.989488</td>\n      <td>0.938677</td>\n      <td>0.965396</td>\n      <td>0.905826</td>\n    </tr>\n    <tr>\n      <th>Pena High School</th>\n      <td>Charter</td>\n      <td>962</td>\n      <td>585858.0</td>\n      <td>609.0</td>\n      <td>83.839917</td>\n      <td>84.044699</td>\n      <td>0.945946</td>\n      <td>0.959459</td>\n      <td>0.905405</td>\n    </tr>\n  </tbody>\n</table>\n</div>"
     },
     "metadata": {},
     "execution_count": 19
    }
   ],
   "source": [
    "#Create a sort on % overall passing and hold value in place since I am not creating a new data frame\n",
    "school_summary_table_df\n",
    "school_summary_table_df.sort_values(by='% Overall Passing', ascending = 0, inplace = True)\n",
    "school_summary_table_df.head()\n"
   ]
  },
  {
   "cell_type": "code",
   "execution_count": 20,
   "metadata": {
    "scrolled": true
   },
   "outputs": [
    {
     "output_type": "execute_result",
     "data": {
      "text/plain": [
       "                           type  Total Students  Total School Budget  \\\n",
       "Rodriguez High School  District            3999            2547363.0   \n",
       "Figueroa High School   District            2949            1884411.0   \n",
       "Huang High School      District            2917            1910635.0   \n",
       "Hernandez High School  District            4635            3022020.0   \n",
       "Johnson High School    District            4761            3094650.0   \n",
       "\n",
       "                       Per Student Budget  Average Math Score  \\\n",
       "Rodriguez High School               637.0           76.842711   \n",
       "Figueroa High School                639.0           76.711767   \n",
       "Huang High School                   655.0           76.629414   \n",
       "Hernandez High School               652.0           77.289752   \n",
       "Johnson High School                 650.0           77.072464   \n",
       "\n",
       "                       Average Reading Score  % Passing Math  \\\n",
       "Rodriguez High School              80.744686        0.663666   \n",
       "Figueroa High School               81.158020        0.659885   \n",
       "Huang High School                  81.182722        0.656839   \n",
       "Hernandez High School              80.934412        0.667530   \n",
       "Johnson High School                80.966394        0.660576   \n",
       "\n",
       "                       % Passing Reading  % Overall Passing  \n",
       "Rodriguez High School           0.802201           0.529882  \n",
       "Figueroa High School            0.807392           0.532045  \n",
       "Huang High School               0.813164           0.535139  \n",
       "Hernandez High School           0.808630           0.535275  \n",
       "Johnson High School             0.812224           0.535392  "
      ],
      "text/html": "<div>\n<style scoped>\n    .dataframe tbody tr th:only-of-type {\n        vertical-align: middle;\n    }\n\n    .dataframe tbody tr th {\n        vertical-align: top;\n    }\n\n    .dataframe thead th {\n        text-align: right;\n    }\n</style>\n<table border=\"1\" class=\"dataframe\">\n  <thead>\n    <tr style=\"text-align: right;\">\n      <th></th>\n      <th>type</th>\n      <th>Total Students</th>\n      <th>Total School Budget</th>\n      <th>Per Student Budget</th>\n      <th>Average Math Score</th>\n      <th>Average Reading Score</th>\n      <th>% Passing Math</th>\n      <th>% Passing Reading</th>\n      <th>% Overall Passing</th>\n    </tr>\n  </thead>\n  <tbody>\n    <tr>\n      <th>Rodriguez High School</th>\n      <td>District</td>\n      <td>3999</td>\n      <td>2547363.0</td>\n      <td>637.0</td>\n      <td>76.842711</td>\n      <td>80.744686</td>\n      <td>0.663666</td>\n      <td>0.802201</td>\n      <td>0.529882</td>\n    </tr>\n    <tr>\n      <th>Figueroa High School</th>\n      <td>District</td>\n      <td>2949</td>\n      <td>1884411.0</td>\n      <td>639.0</td>\n      <td>76.711767</td>\n      <td>81.158020</td>\n      <td>0.659885</td>\n      <td>0.807392</td>\n      <td>0.532045</td>\n    </tr>\n    <tr>\n      <th>Huang High School</th>\n      <td>District</td>\n      <td>2917</td>\n      <td>1910635.0</td>\n      <td>655.0</td>\n      <td>76.629414</td>\n      <td>81.182722</td>\n      <td>0.656839</td>\n      <td>0.813164</td>\n      <td>0.535139</td>\n    </tr>\n    <tr>\n      <th>Hernandez High School</th>\n      <td>District</td>\n      <td>4635</td>\n      <td>3022020.0</td>\n      <td>652.0</td>\n      <td>77.289752</td>\n      <td>80.934412</td>\n      <td>0.667530</td>\n      <td>0.808630</td>\n      <td>0.535275</td>\n    </tr>\n    <tr>\n      <th>Johnson High School</th>\n      <td>District</td>\n      <td>4761</td>\n      <td>3094650.0</td>\n      <td>650.0</td>\n      <td>77.072464</td>\n      <td>80.966394</td>\n      <td>0.660576</td>\n      <td>0.812224</td>\n      <td>0.535392</td>\n    </tr>\n  </tbody>\n</table>\n</div>"
     },
     "metadata": {},
     "execution_count": 20
    }
   ],
   "source": [
    "#Create a sort on % overall passing and hold value in place since I am not creating a new data frame\n",
    "\n",
    "school_summary_table_df.sort_values(by='% Overall Passing', ascending = 1, inplace = True)\n",
    "school_summary_table_df.head()"
   ]
  },
  {
   "cell_type": "markdown",
   "metadata": {},
   "source": [
    "## Bottom Performing Schools (By % Overall Passing)"
   ]
  },
  {
   "cell_type": "markdown",
   "metadata": {},
   "source": [
    "* Sort and display the five worst-performing schools by % overall passing."
   ]
  },
  {
   "cell_type": "code",
   "execution_count": 11,
   "metadata": {},
   "outputs": [
    {
     "data": {
      "text/html": [
       "<div>\n",
       "<style scoped>\n",
       "    .dataframe tbody tr th:only-of-type {\n",
       "        vertical-align: middle;\n",
       "    }\n",
       "\n",
       "    .dataframe tbody tr th {\n",
       "        vertical-align: top;\n",
       "    }\n",
       "\n",
       "    .dataframe thead th {\n",
       "        text-align: right;\n",
       "    }\n",
       "</style>\n",
       "<table border=\"1\" class=\"dataframe\">\n",
       "  <thead>\n",
       "    <tr style=\"text-align: right;\">\n",
       "      <th></th>\n",
       "      <th>School Type</th>\n",
       "      <th>Total Students</th>\n",
       "      <th>Total School Budget</th>\n",
       "      <th>Per Student Budget</th>\n",
       "      <th>Average Math Score</th>\n",
       "      <th>Average Reading Score</th>\n",
       "      <th>% Passing Math</th>\n",
       "      <th>% Passing Reading</th>\n",
       "      <th>% Overall Passing</th>\n",
       "    </tr>\n",
       "  </thead>\n",
       "  <tbody>\n",
       "    <tr>\n",
       "      <th>Rodriguez High School</th>\n",
       "      <td>District</td>\n",
       "      <td>3999</td>\n",
       "      <td>$2,547,363.00</td>\n",
       "      <td>$637.00</td>\n",
       "      <td>76.842711</td>\n",
       "      <td>80.744686</td>\n",
       "      <td>66.366592</td>\n",
       "      <td>80.220055</td>\n",
       "      <td>52.988247</td>\n",
       "    </tr>\n",
       "    <tr>\n",
       "      <th>Figueroa High School</th>\n",
       "      <td>District</td>\n",
       "      <td>2949</td>\n",
       "      <td>$1,884,411.00</td>\n",
       "      <td>$639.00</td>\n",
       "      <td>76.711767</td>\n",
       "      <td>81.158020</td>\n",
       "      <td>65.988471</td>\n",
       "      <td>80.739234</td>\n",
       "      <td>53.204476</td>\n",
       "    </tr>\n",
       "    <tr>\n",
       "      <th>Huang High School</th>\n",
       "      <td>District</td>\n",
       "      <td>2917</td>\n",
       "      <td>$1,910,635.00</td>\n",
       "      <td>$655.00</td>\n",
       "      <td>76.629414</td>\n",
       "      <td>81.182722</td>\n",
       "      <td>65.683922</td>\n",
       "      <td>81.316421</td>\n",
       "      <td>53.513884</td>\n",
       "    </tr>\n",
       "    <tr>\n",
       "      <th>Hernandez High School</th>\n",
       "      <td>District</td>\n",
       "      <td>4635</td>\n",
       "      <td>$3,022,020.00</td>\n",
       "      <td>$652.00</td>\n",
       "      <td>77.289752</td>\n",
       "      <td>80.934412</td>\n",
       "      <td>66.752967</td>\n",
       "      <td>80.862999</td>\n",
       "      <td>53.527508</td>\n",
       "    </tr>\n",
       "    <tr>\n",
       "      <th>Johnson High School</th>\n",
       "      <td>District</td>\n",
       "      <td>4761</td>\n",
       "      <td>$3,094,650.00</td>\n",
       "      <td>$650.00</td>\n",
       "      <td>77.072464</td>\n",
       "      <td>80.966394</td>\n",
       "      <td>66.057551</td>\n",
       "      <td>81.222432</td>\n",
       "      <td>53.539172</td>\n",
       "    </tr>\n",
       "  </tbody>\n",
       "</table>\n",
       "</div>"
      ],
      "text/plain": [
       "                      School Type  Total Students Total School Budget  \\\n",
       "Rodriguez High School    District            3999       $2,547,363.00   \n",
       "Figueroa High School     District            2949       $1,884,411.00   \n",
       "Huang High School        District            2917       $1,910,635.00   \n",
       "Hernandez High School    District            4635       $3,022,020.00   \n",
       "Johnson High School      District            4761       $3,094,650.00   \n",
       "\n",
       "                      Per Student Budget  Average Math Score  \\\n",
       "Rodriguez High School            $637.00           76.842711   \n",
       "Figueroa High School             $639.00           76.711767   \n",
       "Huang High School                $655.00           76.629414   \n",
       "Hernandez High School            $652.00           77.289752   \n",
       "Johnson High School              $650.00           77.072464   \n",
       "\n",
       "                       Average Reading Score  % Passing Math  \\\n",
       "Rodriguez High School              80.744686       66.366592   \n",
       "Figueroa High School               81.158020       65.988471   \n",
       "Huang High School                  81.182722       65.683922   \n",
       "Hernandez High School              80.934412       66.752967   \n",
       "Johnson High School                80.966394       66.057551   \n",
       "\n",
       "                       % Passing Reading  % Overall Passing  \n",
       "Rodriguez High School          80.220055          52.988247  \n",
       "Figueroa High School           80.739234          53.204476  \n",
       "Huang High School              81.316421          53.513884  \n",
       "Hernandez High School          80.862999          53.527508  \n",
       "Johnson High School            81.222432          53.539172  "
      ]
     },
     "execution_count": 11,
     "metadata": {},
     "output_type": "execute_result"
    }
   ],
   "source": []
  },
  {
   "cell_type": "markdown",
   "metadata": {
    "collapsed": true
   },
   "source": [
    "## Math Scores by Grade"
   ]
  },
  {
   "cell_type": "markdown",
   "metadata": {},
   "source": [
    "* Create a table that lists the average Reading Score for students of each grade level (9th, 10th, 11th, 12th) at each school.\n",
    "\n",
    "  * Create a pandas series for each grade. Hint: use a conditional statement.\n",
    "  \n",
    "  * Group each series by school\n",
    "  \n",
    "  * Combine the series into a dataframe\n",
    "  \n",
    "  * Optional: give the displayed data cleaner formatting"
   ]
  },
  {
   "cell_type": "code",
   "execution_count": 21,
   "metadata": {},
   "outputs": [
    {
     "output_type": "execute_result",
     "data": {
      "text/plain": [
       "                           type  Total Students  Total School Budget  \\\n",
       "Rodriguez High School  District            3999            2547363.0   \n",
       "Figueroa High School   District            2949            1884411.0   \n",
       "Huang High School      District            2917            1910635.0   \n",
       "Hernandez High School  District            4635            3022020.0   \n",
       "Johnson High School    District            4761            3094650.0   \n",
       "Ford High School       District            2739            1763916.0   \n",
       "Bailey High School     District            4976            3124928.0   \n",
       "Holden High School      Charter             427             248087.0   \n",
       "Shelton High School     Charter            1761            1056600.0   \n",
       "Wright High School      Charter            1800            1049400.0   \n",
       "Pena High School        Charter             962             585858.0   \n",
       "Wilson High School      Charter            2283            1319574.0   \n",
       "Griffin High School     Charter            1468             917500.0   \n",
       "Thomas High School      Charter            1635            1043130.0   \n",
       "Cabrera High School     Charter            1858            1081356.0   \n",
       "\n",
       "                       Per Student Budget  Average Math Score  \\\n",
       "Rodriguez High School               637.0           76.842711   \n",
       "Figueroa High School                639.0           76.711767   \n",
       "Huang High School                   655.0           76.629414   \n",
       "Hernandez High School               652.0           77.289752   \n",
       "Johnson High School                 650.0           77.072464   \n",
       "Ford High School                    644.0           77.102592   \n",
       "Bailey High School                  628.0           77.048432   \n",
       "Holden High School                  581.0           83.803279   \n",
       "Shelton High School                 600.0           83.359455   \n",
       "Wright High School                  583.0           83.682222   \n",
       "Pena High School                    609.0           83.839917   \n",
       "Wilson High School                  578.0           83.274201   \n",
       "Griffin High School                 625.0           83.351499   \n",
       "Thomas High School                  638.0           83.418349   \n",
       "Cabrera High School                 582.0           83.061895   \n",
       "\n",
       "                       Average Reading Score  % Passing Math  \\\n",
       "Rodriguez High School              80.744686        0.663666   \n",
       "Figueroa High School               81.158020        0.659885   \n",
       "Huang High School                  81.182722        0.656839   \n",
       "Hernandez High School              80.934412        0.667530   \n",
       "Johnson High School                80.966394        0.660576   \n",
       "Ford High School                   80.746258        0.683096   \n",
       "Bailey High School                 81.033963        0.666801   \n",
       "Holden High School                 83.814988        0.925059   \n",
       "Shelton High School                83.725724        0.938671   \n",
       "Wright High School                 83.955000        0.933333   \n",
       "Pena High School                   84.044699        0.945946   \n",
       "Wilson High School                 83.989488        0.938677   \n",
       "Griffin High School                83.816757        0.933924   \n",
       "Thomas High School                 83.848930        0.932722   \n",
       "Cabrera High School                83.975780        0.941335   \n",
       "\n",
       "                       % Passing Reading  % Overall Passing  \n",
       "Rodriguez High School           0.802201           0.529882  \n",
       "Figueroa High School            0.807392           0.532045  \n",
       "Huang High School               0.813164           0.535139  \n",
       "Hernandez High School           0.808630           0.535275  \n",
       "Johnson High School             0.812224           0.535392  \n",
       "Ford High School                0.792990           0.542899  \n",
       "Bailey High School              0.819333           0.546423  \n",
       "Holden High School              0.962529           0.892272  \n",
       "Shelton High School             0.958546           0.898921  \n",
       "Wright High School              0.966111           0.903333  \n",
       "Pena High School                0.959459           0.905405  \n",
       "Wilson High School              0.965396           0.905826  \n",
       "Griffin High School             0.971390           0.905995  \n",
       "Thomas High School              0.973089           0.909480  \n",
       "Cabrera High School             0.970398           0.913348  "
      ],
      "text/html": "<div>\n<style scoped>\n    .dataframe tbody tr th:only-of-type {\n        vertical-align: middle;\n    }\n\n    .dataframe tbody tr th {\n        vertical-align: top;\n    }\n\n    .dataframe thead th {\n        text-align: right;\n    }\n</style>\n<table border=\"1\" class=\"dataframe\">\n  <thead>\n    <tr style=\"text-align: right;\">\n      <th></th>\n      <th>type</th>\n      <th>Total Students</th>\n      <th>Total School Budget</th>\n      <th>Per Student Budget</th>\n      <th>Average Math Score</th>\n      <th>Average Reading Score</th>\n      <th>% Passing Math</th>\n      <th>% Passing Reading</th>\n      <th>% Overall Passing</th>\n    </tr>\n  </thead>\n  <tbody>\n    <tr>\n      <th>Rodriguez High School</th>\n      <td>District</td>\n      <td>3999</td>\n      <td>2547363.0</td>\n      <td>637.0</td>\n      <td>76.842711</td>\n      <td>80.744686</td>\n      <td>0.663666</td>\n      <td>0.802201</td>\n      <td>0.529882</td>\n    </tr>\n    <tr>\n      <th>Figueroa High School</th>\n      <td>District</td>\n      <td>2949</td>\n      <td>1884411.0</td>\n      <td>639.0</td>\n      <td>76.711767</td>\n      <td>81.158020</td>\n      <td>0.659885</td>\n      <td>0.807392</td>\n      <td>0.532045</td>\n    </tr>\n    <tr>\n      <th>Huang High School</th>\n      <td>District</td>\n      <td>2917</td>\n      <td>1910635.0</td>\n      <td>655.0</td>\n      <td>76.629414</td>\n      <td>81.182722</td>\n      <td>0.656839</td>\n      <td>0.813164</td>\n      <td>0.535139</td>\n    </tr>\n    <tr>\n      <th>Hernandez High School</th>\n      <td>District</td>\n      <td>4635</td>\n      <td>3022020.0</td>\n      <td>652.0</td>\n      <td>77.289752</td>\n      <td>80.934412</td>\n      <td>0.667530</td>\n      <td>0.808630</td>\n      <td>0.535275</td>\n    </tr>\n    <tr>\n      <th>Johnson High School</th>\n      <td>District</td>\n      <td>4761</td>\n      <td>3094650.0</td>\n      <td>650.0</td>\n      <td>77.072464</td>\n      <td>80.966394</td>\n      <td>0.660576</td>\n      <td>0.812224</td>\n      <td>0.535392</td>\n    </tr>\n    <tr>\n      <th>Ford High School</th>\n      <td>District</td>\n      <td>2739</td>\n      <td>1763916.0</td>\n      <td>644.0</td>\n      <td>77.102592</td>\n      <td>80.746258</td>\n      <td>0.683096</td>\n      <td>0.792990</td>\n      <td>0.542899</td>\n    </tr>\n    <tr>\n      <th>Bailey High School</th>\n      <td>District</td>\n      <td>4976</td>\n      <td>3124928.0</td>\n      <td>628.0</td>\n      <td>77.048432</td>\n      <td>81.033963</td>\n      <td>0.666801</td>\n      <td>0.819333</td>\n      <td>0.546423</td>\n    </tr>\n    <tr>\n      <th>Holden High School</th>\n      <td>Charter</td>\n      <td>427</td>\n      <td>248087.0</td>\n      <td>581.0</td>\n      <td>83.803279</td>\n      <td>83.814988</td>\n      <td>0.925059</td>\n      <td>0.962529</td>\n      <td>0.892272</td>\n    </tr>\n    <tr>\n      <th>Shelton High School</th>\n      <td>Charter</td>\n      <td>1761</td>\n      <td>1056600.0</td>\n      <td>600.0</td>\n      <td>83.359455</td>\n      <td>83.725724</td>\n      <td>0.938671</td>\n      <td>0.958546</td>\n      <td>0.898921</td>\n    </tr>\n    <tr>\n      <th>Wright High School</th>\n      <td>Charter</td>\n      <td>1800</td>\n      <td>1049400.0</td>\n      <td>583.0</td>\n      <td>83.682222</td>\n      <td>83.955000</td>\n      <td>0.933333</td>\n      <td>0.966111</td>\n      <td>0.903333</td>\n    </tr>\n    <tr>\n      <th>Pena High School</th>\n      <td>Charter</td>\n      <td>962</td>\n      <td>585858.0</td>\n      <td>609.0</td>\n      <td>83.839917</td>\n      <td>84.044699</td>\n      <td>0.945946</td>\n      <td>0.959459</td>\n      <td>0.905405</td>\n    </tr>\n    <tr>\n      <th>Wilson High School</th>\n      <td>Charter</td>\n      <td>2283</td>\n      <td>1319574.0</td>\n      <td>578.0</td>\n      <td>83.274201</td>\n      <td>83.989488</td>\n      <td>0.938677</td>\n      <td>0.965396</td>\n      <td>0.905826</td>\n    </tr>\n    <tr>\n      <th>Griffin High School</th>\n      <td>Charter</td>\n      <td>1468</td>\n      <td>917500.0</td>\n      <td>625.0</td>\n      <td>83.351499</td>\n      <td>83.816757</td>\n      <td>0.933924</td>\n      <td>0.971390</td>\n      <td>0.905995</td>\n    </tr>\n    <tr>\n      <th>Thomas High School</th>\n      <td>Charter</td>\n      <td>1635</td>\n      <td>1043130.0</td>\n      <td>638.0</td>\n      <td>83.418349</td>\n      <td>83.848930</td>\n      <td>0.932722</td>\n      <td>0.973089</td>\n      <td>0.909480</td>\n    </tr>\n    <tr>\n      <th>Cabrera High School</th>\n      <td>Charter</td>\n      <td>1858</td>\n      <td>1081356.0</td>\n      <td>582.0</td>\n      <td>83.061895</td>\n      <td>83.975780</td>\n      <td>0.941335</td>\n      <td>0.970398</td>\n      <td>0.913348</td>\n    </tr>\n  </tbody>\n</table>\n</div>"
     },
     "metadata": {},
     "execution_count": 21
    }
   ],
   "source": [
    "school_summary_table_df\n",
    "# make a 9th grade dataframe\n",
    "school_type = []\n",
    "for j in unique_schools:\n",
    "    flag = 0\n",
    "    for i in school_data_complete['Student ID']:\n",
    "        if school_data_complete['grade'][i] == j and flag == 0:\n",
    "           typeholder = school_data_complete['type'][i]\n",
    "           school_type.append(typeholder)\n",
    "           flag = 1\n",
    "school_type"
   ]
  },
  {
   "cell_type": "code",
   "execution_count": 35,
   "metadata": {},
   "outputs": [
    {
     "output_type": "execute_result",
     "data": {
      "text/plain": [
       "                      math_score                                 \n",
       "grade                       10th       11th       12th        9th\n",
       "school_name                                                      \n",
       "Bailey High School     76.996772  77.515588  76.492218  77.083676\n",
       "Cabrera High School    83.154506  82.765560  83.277487  83.094697\n",
       "Figueroa High School   76.539974  76.884344  77.151369  76.403037\n",
       "Ford High School       77.672316  76.918058  76.179963  77.361345\n",
       "Griffin High School    84.229064  83.842105  83.356164  82.044010\n",
       "Hernandez High School  77.337408  77.136029  77.186567  77.438495\n",
       "Holden High School     83.429825  85.000000  82.855422  83.787402\n",
       "Huang High School      75.908735  76.446602  77.225641  77.027251\n",
       "Johnson High School    76.691117  77.491653  76.863248  77.187857\n",
       "Pena High School       83.372000  84.328125  84.121547  83.625455\n",
       "Rodriguez High School  76.612500  76.395626  77.690748  76.859966\n",
       "Shelton High School    82.917411  83.383495  83.778976  83.420755\n",
       "Thomas High School     83.087886  83.498795  83.497041  83.590022\n",
       "Wilson High School     83.724422  83.195326  83.035794  83.085578\n",
       "Wright High School     84.010288  83.836782  83.644986  83.264706"
      ],
      "text/html": "<div>\n<style scoped>\n    .dataframe tbody tr th:only-of-type {\n        vertical-align: middle;\n    }\n\n    .dataframe tbody tr th {\n        vertical-align: top;\n    }\n\n    .dataframe thead tr th {\n        text-align: left;\n    }\n\n    .dataframe thead tr:last-of-type th {\n        text-align: right;\n    }\n</style>\n<table border=\"1\" class=\"dataframe\">\n  <thead>\n    <tr>\n      <th></th>\n      <th colspan=\"4\" halign=\"left\">math_score</th>\n    </tr>\n    <tr>\n      <th>grade</th>\n      <th>10th</th>\n      <th>11th</th>\n      <th>12th</th>\n      <th>9th</th>\n    </tr>\n    <tr>\n      <th>school_name</th>\n      <th></th>\n      <th></th>\n      <th></th>\n      <th></th>\n    </tr>\n  </thead>\n  <tbody>\n    <tr>\n      <th>Bailey High School</th>\n      <td>76.996772</td>\n      <td>77.515588</td>\n      <td>76.492218</td>\n      <td>77.083676</td>\n    </tr>\n    <tr>\n      <th>Cabrera High School</th>\n      <td>83.154506</td>\n      <td>82.765560</td>\n      <td>83.277487</td>\n      <td>83.094697</td>\n    </tr>\n    <tr>\n      <th>Figueroa High School</th>\n      <td>76.539974</td>\n      <td>76.884344</td>\n      <td>77.151369</td>\n      <td>76.403037</td>\n    </tr>\n    <tr>\n      <th>Ford High School</th>\n      <td>77.672316</td>\n      <td>76.918058</td>\n      <td>76.179963</td>\n      <td>77.361345</td>\n    </tr>\n    <tr>\n      <th>Griffin High School</th>\n      <td>84.229064</td>\n      <td>83.842105</td>\n      <td>83.356164</td>\n      <td>82.044010</td>\n    </tr>\n    <tr>\n      <th>Hernandez High School</th>\n      <td>77.337408</td>\n      <td>77.136029</td>\n      <td>77.186567</td>\n      <td>77.438495</td>\n    </tr>\n    <tr>\n      <th>Holden High School</th>\n      <td>83.429825</td>\n      <td>85.000000</td>\n      <td>82.855422</td>\n      <td>83.787402</td>\n    </tr>\n    <tr>\n      <th>Huang High School</th>\n      <td>75.908735</td>\n      <td>76.446602</td>\n      <td>77.225641</td>\n      <td>77.027251</td>\n    </tr>\n    <tr>\n      <th>Johnson High School</th>\n      <td>76.691117</td>\n      <td>77.491653</td>\n      <td>76.863248</td>\n      <td>77.187857</td>\n    </tr>\n    <tr>\n      <th>Pena High School</th>\n      <td>83.372000</td>\n      <td>84.328125</td>\n      <td>84.121547</td>\n      <td>83.625455</td>\n    </tr>\n    <tr>\n      <th>Rodriguez High School</th>\n      <td>76.612500</td>\n      <td>76.395626</td>\n      <td>77.690748</td>\n      <td>76.859966</td>\n    </tr>\n    <tr>\n      <th>Shelton High School</th>\n      <td>82.917411</td>\n      <td>83.383495</td>\n      <td>83.778976</td>\n      <td>83.420755</td>\n    </tr>\n    <tr>\n      <th>Thomas High School</th>\n      <td>83.087886</td>\n      <td>83.498795</td>\n      <td>83.497041</td>\n      <td>83.590022</td>\n    </tr>\n    <tr>\n      <th>Wilson High School</th>\n      <td>83.724422</td>\n      <td>83.195326</td>\n      <td>83.035794</td>\n      <td>83.085578</td>\n    </tr>\n    <tr>\n      <th>Wright High School</th>\n      <td>84.010288</td>\n      <td>83.836782</td>\n      <td>83.644986</td>\n      <td>83.264706</td>\n    </tr>\n  </tbody>\n</table>\n</div>"
     },
     "metadata": {},
     "execution_count": 35
    }
   ],
   "source": [
    "math_pivot = pd.pivot_table(school_data_complete,index=['school_name'],columns=['grade'],values=['math_score'], aggfunc = np.mean)\n",
    "math_pivot"
   ]
  },
  {
   "cell_type": "markdown",
   "metadata": {},
   "source": [
    "## Reading Score by Grade "
   ]
  },
  {
   "cell_type": "markdown",
   "metadata": {},
   "source": [
    "* Perform the same operations as above for reading scores"
   ]
  },
  {
   "cell_type": "code",
   "execution_count": 33,
   "metadata": {},
   "outputs": [
    {
     "output_type": "execute_result",
     "data": {
      "text/plain": [
       "                      reading_score                                 \n",
       "grade                          10th       11th       12th        9th\n",
       "school_name                                                         \n",
       "Bailey High School        80.907183  80.945643  80.912451  81.303155\n",
       "Cabrera High School       84.253219  83.788382  84.287958  83.676136\n",
       "Figueroa High School      81.408912  80.640339  81.384863  81.198598\n",
       "Ford High School          81.262712  80.403642  80.662338  80.632653\n",
       "Griffin High School       83.706897  84.288089  84.013699  83.369193\n",
       "Hernandez High School     80.660147  81.396140  80.857143  80.866860\n",
       "Holden High School        83.324561  83.815534  84.698795  83.677165\n",
       "Huang High School         81.512386  81.417476  80.305983  81.290284\n",
       "Johnson High School       80.773431  80.616027  81.227564  81.260714\n",
       "Pena High School          83.612000  84.335938  84.591160  83.807273\n",
       "Rodriguez High School     80.629808  80.864811  80.376426  80.993127\n",
       "Shelton High School       83.441964  84.373786  82.781671  84.122642\n",
       "Thomas High School        84.254157  83.585542  83.831361  83.728850\n",
       "Wilson High School        84.021452  83.764608  84.317673  83.939778\n",
       "Wright High School        83.812757  84.156322  84.073171  83.833333"
      ],
      "text/html": "<div>\n<style scoped>\n    .dataframe tbody tr th:only-of-type {\n        vertical-align: middle;\n    }\n\n    .dataframe tbody tr th {\n        vertical-align: top;\n    }\n\n    .dataframe thead tr th {\n        text-align: left;\n    }\n\n    .dataframe thead tr:last-of-type th {\n        text-align: right;\n    }\n</style>\n<table border=\"1\" class=\"dataframe\">\n  <thead>\n    <tr>\n      <th></th>\n      <th colspan=\"4\" halign=\"left\">reading_score</th>\n    </tr>\n    <tr>\n      <th>grade</th>\n      <th>10th</th>\n      <th>11th</th>\n      <th>12th</th>\n      <th>9th</th>\n    </tr>\n    <tr>\n      <th>school_name</th>\n      <th></th>\n      <th></th>\n      <th></th>\n      <th></th>\n    </tr>\n  </thead>\n  <tbody>\n    <tr>\n      <th>Bailey High School</th>\n      <td>80.907183</td>\n      <td>80.945643</td>\n      <td>80.912451</td>\n      <td>81.303155</td>\n    </tr>\n    <tr>\n      <th>Cabrera High School</th>\n      <td>84.253219</td>\n      <td>83.788382</td>\n      <td>84.287958</td>\n      <td>83.676136</td>\n    </tr>\n    <tr>\n      <th>Figueroa High School</th>\n      <td>81.408912</td>\n      <td>80.640339</td>\n      <td>81.384863</td>\n      <td>81.198598</td>\n    </tr>\n    <tr>\n      <th>Ford High School</th>\n      <td>81.262712</td>\n      <td>80.403642</td>\n      <td>80.662338</td>\n      <td>80.632653</td>\n    </tr>\n    <tr>\n      <th>Griffin High School</th>\n      <td>83.706897</td>\n      <td>84.288089</td>\n      <td>84.013699</td>\n      <td>83.369193</td>\n    </tr>\n    <tr>\n      <th>Hernandez High School</th>\n      <td>80.660147</td>\n      <td>81.396140</td>\n      <td>80.857143</td>\n      <td>80.866860</td>\n    </tr>\n    <tr>\n      <th>Holden High School</th>\n      <td>83.324561</td>\n      <td>83.815534</td>\n      <td>84.698795</td>\n      <td>83.677165</td>\n    </tr>\n    <tr>\n      <th>Huang High School</th>\n      <td>81.512386</td>\n      <td>81.417476</td>\n      <td>80.305983</td>\n      <td>81.290284</td>\n    </tr>\n    <tr>\n      <th>Johnson High School</th>\n      <td>80.773431</td>\n      <td>80.616027</td>\n      <td>81.227564</td>\n      <td>81.260714</td>\n    </tr>\n    <tr>\n      <th>Pena High School</th>\n      <td>83.612000</td>\n      <td>84.335938</td>\n      <td>84.591160</td>\n      <td>83.807273</td>\n    </tr>\n    <tr>\n      <th>Rodriguez High School</th>\n      <td>80.629808</td>\n      <td>80.864811</td>\n      <td>80.376426</td>\n      <td>80.993127</td>\n    </tr>\n    <tr>\n      <th>Shelton High School</th>\n      <td>83.441964</td>\n      <td>84.373786</td>\n      <td>82.781671</td>\n      <td>84.122642</td>\n    </tr>\n    <tr>\n      <th>Thomas High School</th>\n      <td>84.254157</td>\n      <td>83.585542</td>\n      <td>83.831361</td>\n      <td>83.728850</td>\n    </tr>\n    <tr>\n      <th>Wilson High School</th>\n      <td>84.021452</td>\n      <td>83.764608</td>\n      <td>84.317673</td>\n      <td>83.939778</td>\n    </tr>\n    <tr>\n      <th>Wright High School</th>\n      <td>83.812757</td>\n      <td>84.156322</td>\n      <td>84.073171</td>\n      <td>83.833333</td>\n    </tr>\n  </tbody>\n</table>\n</div>"
     },
     "metadata": {},
     "execution_count": 33
    }
   ],
   "source": [
    "reading_pivot = pd.pivot_table(school_data_complete,index=['school_name'],columns=['grade'],values=['reading_score'], aggfunc = np.mean)\n",
    "reading_pivot \n"
   ]
  },
  {
   "cell_type": "markdown",
   "metadata": {},
   "source": [
    "## Scores by School Spending"
   ]
  },
  {
   "cell_type": "markdown",
   "metadata": {},
   "source": [
    "* Create a table that breaks down school performances based on average Spending Ranges (Per Student). Use 4 reasonable bins to group school spending. Include in the table each of the following:\n",
    "  * Average Math Score\n",
    "  * Average Reading Score\n",
    "  * % Passing Math\n",
    "  * % Passing Reading\n",
    "  * Overall Passing Rate (Average of the above two)"
   ]
  },
  {
   "cell_type": "code",
   "execution_count": 495,
   "metadata": {},
   "outputs": [
    {
     "output_type": "stream",
     "name": "stderr",
     "text": [
      "ipykernel_launcher:21: FutureWarning: Indexing with multiple keys (implicitly converted to a tuple of keys) will be deprecated, use a list instead.\n"
     ]
    },
    {
     "output_type": "execute_result",
     "data": {
      "text/plain": [
       "                           Average Math Score  Average Reading Score  \\\n",
       "Scores by School Spending                                              \n",
       "<$585                               83.455399              83.933814   \n",
       "$585-630                            81.899826              83.155286   \n",
       "$630-645                            78.518855              81.624473   \n",
       "$645-680                            76.997210              81.027843   \n",
       "\n",
       "                           % Passing Math  % Passing Reading  \\\n",
       "Scores by School Spending                                      \n",
       "<$585                            0.934601           0.966109   \n",
       "$585-630                         0.871335           0.927182   \n",
       "$630-645                         0.734842           0.843918   \n",
       "$645-680                         0.661648           0.811340   \n",
       "\n",
       "                           % Overall Passing  \n",
       "Scores by School Spending                     \n",
       "<$585                               0.903695  \n",
       "$585-630                            0.814186  \n",
       "$630-645                            0.628577  \n",
       "$645-680                            0.535269  "
      ],
      "text/html": "<div>\n<style scoped>\n    .dataframe tbody tr th:only-of-type {\n        vertical-align: middle;\n    }\n\n    .dataframe tbody tr th {\n        vertical-align: top;\n    }\n\n    .dataframe thead th {\n        text-align: right;\n    }\n</style>\n<table border=\"1\" class=\"dataframe\">\n  <thead>\n    <tr style=\"text-align: right;\">\n      <th></th>\n      <th>Average Math Score</th>\n      <th>Average Reading Score</th>\n      <th>% Passing Math</th>\n      <th>% Passing Reading</th>\n      <th>% Overall Passing</th>\n    </tr>\n    <tr>\n      <th>Scores by School Spending</th>\n      <th></th>\n      <th></th>\n      <th></th>\n      <th></th>\n      <th></th>\n    </tr>\n  </thead>\n  <tbody>\n    <tr>\n      <th>&lt;$585</th>\n      <td>83.455399</td>\n      <td>83.933814</td>\n      <td>0.934601</td>\n      <td>0.966109</td>\n      <td>0.903695</td>\n    </tr>\n    <tr>\n      <th>$585-630</th>\n      <td>81.899826</td>\n      <td>83.155286</td>\n      <td>0.871335</td>\n      <td>0.927182</td>\n      <td>0.814186</td>\n    </tr>\n    <tr>\n      <th>$630-645</th>\n      <td>78.518855</td>\n      <td>81.624473</td>\n      <td>0.734842</td>\n      <td>0.843918</td>\n      <td>0.628577</td>\n    </tr>\n    <tr>\n      <th>$645-680</th>\n      <td>76.997210</td>\n      <td>81.027843</td>\n      <td>0.661648</td>\n      <td>0.811340</td>\n      <td>0.535269</td>\n    </tr>\n  </tbody>\n</table>\n</div>"
     },
     "metadata": {},
     "execution_count": 495
    }
   ],
   "source": [
    "#find max spending per student value for bin use\n",
    "#school_summary_table_df['Per Student Budget'].max()\n",
    "#max was found to be 655 which is within the max bin value of 680\n",
    "\n",
    "#create spending bins\n",
    "spending_bins = [0,585,630,645,680]\n",
    "\n",
    "#create names for bins\n",
    "spending_bin_names = ['<$585','$585-630','$630-645','$645-680']\n",
    "\n",
    "#Create a column that has the bin values that are wanted\n",
    "school_summary_table_df['Scores by School Spending'] = pd.cut(school_summary_table_df['Per Student Budget'], spending_bins, labels = spending_bin_names, include_lowest = True)\n",
    "#school_summary_table_df\n",
    "\n",
    "#make a groupby the Scores by School Spending column\n",
    "labels = ['Total Students','Total School Budget','Per Student Budget']\n",
    "scores_by_school_spending = school_summary_table_df.groupby('Scores by School Spending')\n",
    "\n",
    "#show just the columns we are interested in \n",
    "scores_by_school_spending['Average Math Score','Average Reading Score', '% Passing Math', '% Passing Reading',\n",
    "'% Overall Passing'].mean()\n"
   ]
  },
  {
   "cell_type": "markdown",
   "metadata": {},
   "source": [
    "## Scores by School Size"
   ]
  },
  {
   "cell_type": "markdown",
   "metadata": {},
   "source": [
    "* Perform the same operations as above, based on school size."
   ]
  },
  {
   "cell_type": "code",
   "execution_count": 506,
   "metadata": {},
   "outputs": [
    {
     "output_type": "stream",
     "name": "stderr",
     "text": [
      "ipykernel_launcher:23: FutureWarning: Indexing with multiple keys (implicitly converted to a tuple of keys) will be deprecated, use a list instead.\n"
     ]
    },
    {
     "output_type": "execute_result",
     "data": {
      "text/plain": [
       "                    Average Math Score  Average Reading Score  % Passing Math  \\\n",
       "School Size                                                                     \n",
       "Small (<1000)                83.821598              83.929843        0.935502   \n",
       "Medium (1000-2000)           83.374684              83.864438        0.935997   \n",
       "Large(2000-5000)             77.746417              81.344493        0.699634   \n",
       "\n",
       "                    % Passing Reading  % Overall Passing  \n",
       "School Size                                               \n",
       "Small (<1000)                0.960994           0.898839  \n",
       "Medium (1000-2000)           0.967907           0.906215  \n",
       "Large(2000-5000)             0.827666           0.582860  "
      ],
      "text/html": "<div>\n<style scoped>\n    .dataframe tbody tr th:only-of-type {\n        vertical-align: middle;\n    }\n\n    .dataframe tbody tr th {\n        vertical-align: top;\n    }\n\n    .dataframe thead th {\n        text-align: right;\n    }\n</style>\n<table border=\"1\" class=\"dataframe\">\n  <thead>\n    <tr style=\"text-align: right;\">\n      <th></th>\n      <th>Average Math Score</th>\n      <th>Average Reading Score</th>\n      <th>% Passing Math</th>\n      <th>% Passing Reading</th>\n      <th>% Overall Passing</th>\n    </tr>\n    <tr>\n      <th>School Size</th>\n      <th></th>\n      <th></th>\n      <th></th>\n      <th></th>\n      <th></th>\n    </tr>\n  </thead>\n  <tbody>\n    <tr>\n      <th>Small (&lt;1000)</th>\n      <td>83.821598</td>\n      <td>83.929843</td>\n      <td>0.935502</td>\n      <td>0.960994</td>\n      <td>0.898839</td>\n    </tr>\n    <tr>\n      <th>Medium (1000-2000)</th>\n      <td>83.374684</td>\n      <td>83.864438</td>\n      <td>0.935997</td>\n      <td>0.967907</td>\n      <td>0.906215</td>\n    </tr>\n    <tr>\n      <th>Large(2000-5000)</th>\n      <td>77.746417</td>\n      <td>81.344493</td>\n      <td>0.699634</td>\n      <td>0.827666</td>\n      <td>0.582860</td>\n    </tr>\n  </tbody>\n</table>\n</div>"
     },
     "metadata": {},
     "execution_count": 506
    }
   ],
   "source": [
    "Size_summary_df = school_summary_table_df\n",
    "#Activate this next line when running the code from scratch\n",
    "# #Size_summary_df.drop('Scores by School Spending', axis = 1, inplace = True)\n",
    "\n",
    "\n",
    "Size_summary_df = pd.concat([Size_summary_df,school_sizes_df], axis =1)\n",
    "Size_summary_df\n",
    "\n",
    "#create size bins\n",
    "size_bins = [0,1000,2000,5000]\n",
    "\n",
    "#create names for bins\n",
    "size_bin_names = ['Small (<1000)','Medium (1000-2000)','Large(2000-5000)']\n",
    "\n",
    "#Create a column that has the bin values that are wanted\n",
    "Size_summary_df['School Size'] = pd.cut(Size_summary_df['size'], size_bins, labels = size_bin_names, include_lowest = True)\n",
    "\n",
    "#make a groupby the Scores by School Spending column\n",
    "Size_summary_df = Size_summary_df.groupby('School Size')\n",
    "\n",
    "#show just the columns we are interested in \n",
    "Size_summary_df['Average Math Score','Average Reading Score', '% Passing Math', '% Passing Reading',\n",
    "'% Overall Passing'].mean()"
   ]
  },
  {
   "cell_type": "code",
   "execution_count": 22,
   "metadata": {
    "scrolled": true
   },
   "outputs": [
    {
     "data": {
      "text/html": [
       "<div>\n",
       "<style scoped>\n",
       "    .dataframe tbody tr th:only-of-type {\n",
       "        vertical-align: middle;\n",
       "    }\n",
       "\n",
       "    .dataframe tbody tr th {\n",
       "        vertical-align: top;\n",
       "    }\n",
       "\n",
       "    .dataframe thead th {\n",
       "        text-align: right;\n",
       "    }\n",
       "</style>\n",
       "<table border=\"1\" class=\"dataframe\">\n",
       "  <thead>\n",
       "    <tr style=\"text-align: right;\">\n",
       "      <th></th>\n",
       "      <th>Average Math Score</th>\n",
       "      <th>Average Reading Score</th>\n",
       "      <th>% Passing Math</th>\n",
       "      <th>% Passing Reading</th>\n",
       "      <th>% Overall Passing</th>\n",
       "    </tr>\n",
       "    <tr>\n",
       "      <th>School Size</th>\n",
       "      <th></th>\n",
       "      <th></th>\n",
       "      <th></th>\n",
       "      <th></th>\n",
       "      <th></th>\n",
       "    </tr>\n",
       "  </thead>\n",
       "  <tbody>\n",
       "    <tr>\n",
       "      <th>Small (&lt;1000)</th>\n",
       "      <td>83.821598</td>\n",
       "      <td>83.929843</td>\n",
       "      <td>93.550225</td>\n",
       "      <td>96.099437</td>\n",
       "      <td>89.883853</td>\n",
       "    </tr>\n",
       "    <tr>\n",
       "      <th>Medium (1000-2000)</th>\n",
       "      <td>83.374684</td>\n",
       "      <td>83.864438</td>\n",
       "      <td>93.599695</td>\n",
       "      <td>96.790680</td>\n",
       "      <td>90.621535</td>\n",
       "    </tr>\n",
       "    <tr>\n",
       "      <th>Large (2000-5000)</th>\n",
       "      <td>77.746417</td>\n",
       "      <td>81.344493</td>\n",
       "      <td>69.963361</td>\n",
       "      <td>82.766634</td>\n",
       "      <td>58.286003</td>\n",
       "    </tr>\n",
       "  </tbody>\n",
       "</table>\n",
       "</div>"
      ],
      "text/plain": [
       "                    Average Math Score  Average Reading Score  % Passing Math  \\\n",
       "School Size                                                                     \n",
       "Small (<1000)                83.821598              83.929843       93.550225   \n",
       "Medium (1000-2000)           83.374684              83.864438       93.599695   \n",
       "Large (2000-5000)            77.746417              81.344493       69.963361   \n",
       "\n",
       "                    % Passing Reading  % Overall Passing  \n",
       "School Size                                               \n",
       "Small (<1000)               96.099437          89.883853  \n",
       "Medium (1000-2000)          96.790680          90.621535  \n",
       "Large (2000-5000)           82.766634          58.286003  "
      ]
     },
     "execution_count": 22,
     "metadata": {},
     "output_type": "execute_result"
    }
   ],
   "source": []
  },
  {
   "cell_type": "markdown",
   "metadata": {},
   "source": [
    "## Scores by School Type"
   ]
  },
  {
   "cell_type": "markdown",
   "metadata": {},
   "source": [
    "* Perform the same operations as above, based on school type"
   ]
  },
  {
   "cell_type": "code",
   "execution_count": 24,
   "metadata": {},
   "outputs": [
    {
     "data": {
      "text/html": [
       "<div>\n",
       "<style scoped>\n",
       "    .dataframe tbody tr th:only-of-type {\n",
       "        vertical-align: middle;\n",
       "    }\n",
       "\n",
       "    .dataframe tbody tr th {\n",
       "        vertical-align: top;\n",
       "    }\n",
       "\n",
       "    .dataframe thead th {\n",
       "        text-align: right;\n",
       "    }\n",
       "</style>\n",
       "<table border=\"1\" class=\"dataframe\">\n",
       "  <thead>\n",
       "    <tr style=\"text-align: right;\">\n",
       "      <th></th>\n",
       "      <th>Average Math Score</th>\n",
       "      <th>Average Reading Score</th>\n",
       "      <th>% Passing Math</th>\n",
       "      <th>% Passing Reading</th>\n",
       "      <th>% Overall Passing</th>\n",
       "    </tr>\n",
       "    <tr>\n",
       "      <th>School Type</th>\n",
       "      <th></th>\n",
       "      <th></th>\n",
       "      <th></th>\n",
       "      <th></th>\n",
       "      <th></th>\n",
       "    </tr>\n",
       "  </thead>\n",
       "  <tbody>\n",
       "    <tr>\n",
       "      <th>Charter</th>\n",
       "      <td>83.473852</td>\n",
       "      <td>83.896421</td>\n",
       "      <td>93.620830</td>\n",
       "      <td>96.586489</td>\n",
       "      <td>90.432244</td>\n",
       "    </tr>\n",
       "    <tr>\n",
       "      <th>District</th>\n",
       "      <td>76.956733</td>\n",
       "      <td>80.966636</td>\n",
       "      <td>66.548453</td>\n",
       "      <td>80.799062</td>\n",
       "      <td>53.672208</td>\n",
       "    </tr>\n",
       "  </tbody>\n",
       "</table>\n",
       "</div>"
      ],
      "text/plain": [
       "             Average Math Score  Average Reading Score  % Passing Math  \\\n",
       "School Type                                                              \n",
       "Charter               83.473852              83.896421       93.620830   \n",
       "District              76.956733              80.966636       66.548453   \n",
       "\n",
       "             % Passing Reading  % Overall Passing  \n",
       "School Type                                        \n",
       "Charter              96.586489          90.432244  \n",
       "District             80.799062          53.672208  "
      ]
     },
     "execution_count": 24,
     "metadata": {},
     "output_type": "execute_result"
    }
   ],
   "source": []
  },
  {
   "cell_type": "code",
   "execution_count": 508,
   "metadata": {},
   "outputs": [
    {
     "output_type": "stream",
     "name": "stderr",
     "text": [
      "ipykernel_launcher:9: FutureWarning: Indexing with multiple keys (implicitly converted to a tuple of keys) will be deprecated, use a list instead.\n"
     ]
    },
    {
     "output_type": "execute_result",
     "data": {
      "text/plain": [
       "          Average Math Score  Average Reading Score  % Passing Math  \\\n",
       "type                                                                  \n",
       "Charter            83.473852              83.896421        0.936208   \n",
       "District           76.956733              80.966636        0.665485   \n",
       "\n",
       "          % Passing Reading  % Overall Passing  \n",
       "type                                            \n",
       "Charter            0.965865           0.904322  \n",
       "District           0.807991           0.536722  "
      ],
      "text/html": "<div>\n<style scoped>\n    .dataframe tbody tr th:only-of-type {\n        vertical-align: middle;\n    }\n\n    .dataframe tbody tr th {\n        vertical-align: top;\n    }\n\n    .dataframe thead th {\n        text-align: right;\n    }\n</style>\n<table border=\"1\" class=\"dataframe\">\n  <thead>\n    <tr style=\"text-align: right;\">\n      <th></th>\n      <th>Average Math Score</th>\n      <th>Average Reading Score</th>\n      <th>% Passing Math</th>\n      <th>% Passing Reading</th>\n      <th>% Overall Passing</th>\n    </tr>\n    <tr>\n      <th>type</th>\n      <th></th>\n      <th></th>\n      <th></th>\n      <th></th>\n      <th></th>\n    </tr>\n  </thead>\n  <tbody>\n    <tr>\n      <th>Charter</th>\n      <td>83.473852</td>\n      <td>83.896421</td>\n      <td>0.936208</td>\n      <td>0.965865</td>\n      <td>0.904322</td>\n    </tr>\n    <tr>\n      <th>District</th>\n      <td>76.956733</td>\n      <td>80.966636</td>\n      <td>0.665485</td>\n      <td>0.807991</td>\n      <td>0.536722</td>\n    </tr>\n  </tbody>\n</table>\n</div>"
     },
     "metadata": {},
     "execution_count": 508
    }
   ],
   "source": [
    "Type_summary_df = school_summary_table_df\n",
    "#Activate this next line when running the code from scratch\n",
    "#Type_summary_df.drop('Scores by School Spending', axis = 1, inplace = True)\n",
    "\n",
    "Type_summary_df = Type_summary_df.groupby('type')\n",
    "\n",
    "#show just the columns we are interested in \n",
    "Type_summary_df['Average Math Score','Average Reading Score', '% Passing Math', '% Passing Reading',\n",
    "'% Overall Passing'].mean()"
   ]
  },
  {
   "cell_type": "code",
   "execution_count": null,
   "metadata": {},
   "outputs": [],
   "source": []
  }
 ],
 "metadata": {
  "anaconda-cloud": {},
  "kernel_info": {
   "name": "python3"
  },
  "kernelspec": {
   "name": "python3610jvsc74a57bd02f3a706b34eb0ea9bbb028628723f5cd93895146db5a4b3f252e9288b7f6741a",
   "display_name": "Python 3.6.10 64-bit ('PythonData': conda)"
  },
  "language_info": {
   "codemirror_mode": {
    "name": "ipython",
    "version": 3
   },
   "file_extension": ".py",
   "mimetype": "text/x-python",
   "name": "python",
   "nbconvert_exporter": "python",
   "pygments_lexer": "ipython3",
   "version": "3.6.10"
  },
  "latex_envs": {
   "LaTeX_envs_menu_present": true,
   "autoclose": false,
   "autocomplete": true,
   "bibliofile": "biblio.bib",
   "cite_by": "apalike",
   "current_citInitial": 1,
   "eqLabelWithNumbers": true,
   "eqNumInitial": 1,
   "hotkeys": {
    "equation": "Ctrl-E",
    "itemize": "Ctrl-I"
   },
   "labels_anchors": false,
   "latex_user_defs": false,
   "report_style_numbering": false,
   "user_envs_cfg": false
  },
  "nteract": {
   "version": "0.8.4"
  }
 },
 "nbformat": 4,
 "nbformat_minor": 1
}